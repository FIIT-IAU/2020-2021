{
  "nbformat": 4,
  "nbformat_minor": 0,
  "metadata": {
    "colab": {
      "name": "IAU_uvod_do_pythonu.ipynb",
      "provenance": [],
      "collapsed_sections": []
    },
    "kernelspec": {
      "name": "python3",
      "display_name": "Python 3"
    }
  },
  "cells": [
    {
      "cell_type": "markdown",
      "metadata": {
        "id": "PE4ExuwJjYZl",
        "colab_type": "text"
      },
      "source": [
        "# IAU - 01"
      ]
    },
    {
      "cell_type": "code",
      "metadata": {
        "id": "m7dnZNjx26I_",
        "colab_type": "code",
        "colab": {}
      },
      "source": [
        "# -*- coding: utf-8 -*-\n",
        "#\n",
        "# Licensed under the Apache License, Version 2.0 (the \"License\");\n",
        "# you may not use this file except in compliance with the License.\n",
        "# You may obtain a copy of the License at\n",
        "#\n",
        "#    http://www.apache.org/licenses/LICENSE-2.0\n",
        "#\n",
        "# Unless required by applicable law or agreed to in writing, software\n",
        "# distributed under the License is distributed on an \"AS IS\" BASIS,\n",
        "# WITHOUT WARRANTIES OR CONDITIONS OF ANY KIND, either express or\n",
        "# implied.\n",
        "# See the License for the specific language governing permissions and\n",
        "# limitations under the License.\n",
        "#"
      ],
      "execution_count": null,
      "outputs": []
    },
    {
      "cell_type": "markdown",
      "metadata": {
        "id": "wtQeTdrV4kO_",
        "colab_type": "text"
      },
      "source": [
        "[Source: https://github.com/jerry-git/learn-python3](https://github.com/jerry-git/learn-python3)"
      ]
    },
    {
      "cell_type": "markdown",
      "metadata": {
        "id": "vJozkGmhjUbd",
        "colab_type": "text"
      },
      "source": [
        "Oficiálny python tutoriál: [https://docs.python.org/3.8/tutorial/index.html](https://docs.python.org/3.8/tutorial/index.html) \n",
        "\n",
        "---\n",
        "\n"
      ]
    },
    {
      "cell_type": "markdown",
      "metadata": {
        "id": "cfozm4vX4wMX",
        "colab_type": "text"
      },
      "source": [
        "Postupne si prechádzajte a púšťajte jednotlivé bunky (dá sa aj s Ctrl + Enter)."
      ]
    },
    {
      "cell_type": "markdown",
      "metadata": {
        "id": "4BSxixHNhqm-",
        "colab_type": "text"
      },
      "source": [
        "**STRING**"
      ]
    },
    {
      "cell_type": "code",
      "metadata": {
        "id": "kQXcQ4Ku4k_a",
        "colab_type": "code",
        "colab": {}
      },
      "source": [
        "my_string = 'Python is my favorite programming language!'"
      ],
      "execution_count": null,
      "outputs": []
    },
    {
      "cell_type": "code",
      "metadata": {
        "id": "-3MpNSou7h30",
        "colab_type": "code",
        "colab": {}
      },
      "source": [
        "my_string"
      ],
      "execution_count": null,
      "outputs": []
    },
    {
      "cell_type": "code",
      "metadata": {
        "id": "TptRcZ547ifI",
        "colab_type": "code",
        "colab": {}
      },
      "source": [
        "type(my_string)"
      ],
      "execution_count": null,
      "outputs": []
    },
    {
      "cell_type": "code",
      "metadata": {
        "id": "AG7SiMOw7oHY",
        "colab_type": "code",
        "colab": {}
      },
      "source": [
        "len(my_string)"
      ],
      "execution_count": null,
      "outputs": []
    },
    {
      "cell_type": "code",
      "metadata": {
        "id": "8lH05I9x7rVC",
        "colab_type": "code",
        "colab": {}
      },
      "source": [
        "long_story = ('Lorem ipsum dolor sit amet, consectetur adipiscing elit.' \n",
        "              'Pellentesque eget tincidunt felis. Ut ac vestibulum est.' \n",
        "              'In sed ipsum sit amet sapien scelerisque bibendum. Sed ' \n",
        "              'sagittis purus eu diam fermentum pellentesque.')\n",
        "long_story"
      ],
      "execution_count": null,
      "outputs": []
    },
    {
      "cell_type": "markdown",
      "metadata": {
        "id": "qJtfGRULX02n",
        "colab_type": "text"
      },
      "source": [
        "**str.replace()**"
      ]
    },
    {
      "cell_type": "markdown",
      "metadata": {
        "id": "wySa0Gn0X3YV",
        "colab_type": "text"
      },
      "source": [
        "This will not modify my_string because replace is not done in-place."
      ]
    },
    {
      "cell_type": "code",
      "metadata": {
        "id": "Sdh7VQ1Cf21J",
        "colab_type": "code",
        "colab": {}
      },
      "source": [
        "my_string.replace('a', '?')\n",
        "print(my_string)"
      ],
      "execution_count": null,
      "outputs": []
    },
    {
      "cell_type": "markdown",
      "metadata": {
        "id": "aYFLOlPVYNRq",
        "colab_type": "text"
      },
      "source": [
        "You have to store the return value of replace instead."
      ]
    },
    {
      "cell_type": "code",
      "metadata": {
        "id": "Eynd9hQbYPHv",
        "colab_type": "code",
        "colab": {}
      },
      "source": [
        "my_modified_string = my_string.replace('is', 'will be')\n",
        "print(my_modified_string)"
      ],
      "execution_count": null,
      "outputs": []
    },
    {
      "cell_type": "markdown",
      "metadata": {
        "id": "rn5qQViuYRaC",
        "colab_type": "text"
      },
      "source": [
        "**str.format()**"
      ]
    },
    {
      "cell_type": "code",
      "metadata": {
        "id": "9Q209xxpYQ6L",
        "colab_type": "code",
        "colab": {}
      },
      "source": [
        "secret = '{} is cool'.format('Python')\n",
        "print(secret)"
      ],
      "execution_count": null,
      "outputs": []
    },
    {
      "cell_type": "code",
      "metadata": {
        "id": "v_q-11yCYZiV",
        "colab_type": "code",
        "colab": {}
      },
      "source": [
        "print('My name is {} {}, you can call me {}.'.format('John', 'Doe', 'John'))\n",
        "# is the same as:\n",
        "print('My name is {first} {family}, you can call me {first}.'.format(first='John', family='Doe'))"
      ],
      "execution_count": null,
      "outputs": []
    },
    {
      "cell_type": "markdown",
      "metadata": {
        "id": "2AgU5K5lYfBt",
        "colab_type": "text"
      },
      "source": [
        "**str.join()**"
      ]
    },
    {
      "cell_type": "code",
      "metadata": {
        "id": "JIRxLS9dYej3",
        "colab_type": "code",
        "colab": {}
      },
      "source": [
        "pandas = 'pandas'\n",
        "numpy = 'numpy'\n",
        "requests = 'requests'\n",
        "cool_python_libs = ', '.join([pandas, numpy, requests])"
      ],
      "execution_count": null,
      "outputs": []
    },
    {
      "cell_type": "code",
      "metadata": {
        "id": "h2CPJy94YiE5",
        "colab_type": "code",
        "colab": {}
      },
      "source": [
        "print('Some cool python libraries: {}'.format(cool_python_libs))"
      ],
      "execution_count": null,
      "outputs": []
    },
    {
      "cell_type": "markdown",
      "metadata": {
        "id": "IirUomVZYnWE",
        "colab_type": "text"
      },
      "source": [
        "**str.upper(), str.lower(), str.title()**"
      ]
    },
    {
      "cell_type": "code",
      "metadata": {
        "id": "E5YoI110YqPD",
        "colab_type": "code",
        "colab": {}
      },
      "source": [
        "mixed_case = 'PyTHoN hackER'"
      ],
      "execution_count": null,
      "outputs": []
    },
    {
      "cell_type": "code",
      "metadata": {
        "id": "TQjiNd6SYsud",
        "colab_type": "code",
        "colab": {}
      },
      "source": [
        "mixed_case.upper()"
      ],
      "execution_count": null,
      "outputs": []
    },
    {
      "cell_type": "code",
      "metadata": {
        "id": "R7r8qOSlYtvY",
        "colab_type": "code",
        "colab": {}
      },
      "source": [
        "mixed_case.lower()"
      ],
      "execution_count": null,
      "outputs": []
    },
    {
      "cell_type": "code",
      "metadata": {
        "id": "S_OHlrv7Yvjy",
        "colab_type": "code",
        "colab": {}
      },
      "source": [
        "mixed_case.title()"
      ],
      "execution_count": null,
      "outputs": []
    },
    {
      "cell_type": "markdown",
      "metadata": {
        "id": "cysIml0MZOaK",
        "colab_type": "text"
      },
      "source": [
        "**Escape characters**"
      ]
    },
    {
      "cell_type": "code",
      "metadata": {
        "id": "3vdHV-e-ZR7B",
        "colab_type": "code",
        "colab": {}
      },
      "source": [
        "two_lines = 'First line\\nSecond line'\n",
        "print(two_lines)"
      ],
      "execution_count": null,
      "outputs": []
    },
    {
      "cell_type": "code",
      "metadata": {
        "id": "UjutAz6wZTyk",
        "colab_type": "code",
        "colab": {}
      },
      "source": [
        "indented = '\\tThis will be indented'\n",
        "print(indented)"
      ],
      "execution_count": null,
      "outputs": []
    },
    {
      "cell_type": "markdown",
      "metadata": {
        "id": "cieurcp5YxtZ",
        "colab_type": "text"
      },
      "source": [
        "**str.strip()**"
      ]
    },
    {
      "cell_type": "code",
      "metadata": {
        "id": "7IltMvQ2Yzk-",
        "colab_type": "code",
        "colab": {}
      },
      "source": [
        "ugly_formatted = ' \\n \\t Some story to tell '\n",
        "stripped = ugly_formatted.strip()\n",
        "\n",
        "print('ugly: {}'.format(ugly_formatted))\n",
        "print('stripped: {}'.format(ugly_formatted.strip()))"
      ],
      "execution_count": null,
      "outputs": []
    },
    {
      "cell_type": "markdown",
      "metadata": {
        "id": "pvstRf2dY1HD",
        "colab_type": "text"
      },
      "source": [
        "**str.split()**"
      ]
    },
    {
      "cell_type": "code",
      "metadata": {
        "id": "EkmHu2apY2-L",
        "colab_type": "code",
        "colab": {}
      },
      "source": [
        "sentence = 'three different words'\n",
        "words = sentence.split()\n",
        "print(words)"
      ],
      "execution_count": null,
      "outputs": []
    },
    {
      "cell_type": "code",
      "metadata": {
        "id": "9n6n2NzdY45k",
        "colab_type": "code",
        "colab": {}
      },
      "source": [
        "type(words)"
      ],
      "execution_count": null,
      "outputs": []
    },
    {
      "cell_type": "code",
      "metadata": {
        "id": "6SeWyENNY-i_",
        "colab_type": "code",
        "colab": {}
      },
      "source": [
        "secret_binary_data = '01001,101101,11100000'\n",
        "binaries = secret_binary_data.split(',')\n",
        "print(binaries)"
      ],
      "execution_count": null,
      "outputs": []
    },
    {
      "cell_type": "markdown",
      "metadata": {
        "id": "M8p7aubRZAnU",
        "colab_type": "text"
      },
      "source": [
        "**Calling multiple methods in a row**"
      ]
    },
    {
      "cell_type": "code",
      "metadata": {
        "id": "KNBM9FhcZBsT",
        "colab_type": "code",
        "colab": {}
      },
      "source": [
        "ugly_mixed_case = '   ThIS LooKs BAd '\n",
        "pretty = ugly_mixed_case.strip().lower().replace('bad', 'good')\n",
        "print(pretty)"
      ],
      "execution_count": null,
      "outputs": []
    },
    {
      "cell_type": "markdown",
      "metadata": {
        "id": "ackNp5PghuIv",
        "colab_type": "text"
      },
      "source": [
        "**FUNCTIONS**"
      ]
    },
    {
      "cell_type": "code",
      "metadata": {
        "id": "3aOfJgbdhy1s",
        "colab_type": "code",
        "colab": {}
      },
      "source": [
        "def my_first_function():\n",
        "    print('Hello world!')\n",
        "\n",
        "print('type: {}'.format(my_first_function))\n",
        "\n",
        "my_first_function()  # Calling a function"
      ],
      "execution_count": null,
      "outputs": []
    },
    {
      "cell_type": "code",
      "metadata": {
        "id": "aoRUPGLiik0x",
        "colab_type": "code",
        "colab": {}
      },
      "source": [
        "# Function with return value\n",
        "def strip_and_lowercase(original):\n",
        "    modified = original.strip().lower()\n",
        "    return modified\n",
        "\n",
        "uggly_string = '  MixED CaSe '\n",
        "pretty = strip_and_lowercase(uggly_string)\n",
        "print('pretty: {}'.format(pretty))"
      ],
      "execution_count": null,
      "outputs": []
    },
    {
      "cell_type": "markdown",
      "metadata": {
        "id": "wfy2P9D6aegG",
        "colab_type": "text"
      },
      "source": [
        "**Lists**"
      ]
    },
    {
      "cell_type": "code",
      "metadata": {
        "id": "N5p7iF0Rair6",
        "colab_type": "code",
        "colab": {}
      },
      "source": [
        "my_empty_list = []\n",
        "print('empty list: {}, type: {}'.format(my_empty_list, type(my_empty_list)))"
      ],
      "execution_count": null,
      "outputs": []
    },
    {
      "cell_type": "code",
      "metadata": {
        "id": "HZg8XQ3YalI0",
        "colab_type": "code",
        "colab": {}
      },
      "source": [
        "list_of_ints = [1, 2, 6, 7]\n",
        "list_of_misc = [0.2, 5, 'Python', 'is', 'still fun', '!']\n",
        "print('lengths: {} and {}'.format(len(list_of_ints), len(list_of_misc)))"
      ],
      "execution_count": null,
      "outputs": []
    },
    {
      "cell_type": "markdown",
      "metadata": {
        "id": "-3hlh_MpanLY",
        "colab_type": "text"
      },
      "source": [
        "Accessing values"
      ]
    },
    {
      "cell_type": "code",
      "metadata": {
        "id": "Ggq8_gd3apRI",
        "colab_type": "code",
        "colab": {}
      },
      "source": [
        "my_list = ['Python', 'is', 'still', 'cool']\n",
        "print(my_list[0])\n",
        "print(my_list[3])"
      ],
      "execution_count": null,
      "outputs": []
    },
    {
      "cell_type": "code",
      "metadata": {
        "id": "ccRPTXA-araC",
        "colab_type": "code",
        "colab": {}
      },
      "source": [
        "coordinates = [[12.0, 13.3], [0.6, 18.0], [88.0, 1.1]]  # two dimensional\n",
        "print('first coordinate: {}'.format(coordinates[0]))\n",
        "print('second element of first coordinate: {}'.format(coordinates[0][1]))"
      ],
      "execution_count": null,
      "outputs": []
    },
    {
      "cell_type": "markdown",
      "metadata": {
        "id": "LB8cqQ4sasrv",
        "colab_type": "text"
      },
      "source": [
        "Updating values"
      ]
    },
    {
      "cell_type": "code",
      "metadata": {
        "id": "R0cafu0xaucW",
        "colab_type": "code",
        "colab": {}
      },
      "source": [
        "my_list = [0, 1, 2, 3, 4, 5]\n",
        "my_list[0] = 99\n",
        "print(my_list)\n",
        "\n",
        "# remove first value\n",
        "del my_list[0]\n",
        "print(my_list)"
      ],
      "execution_count": null,
      "outputs": []
    },
    {
      "cell_type": "markdown",
      "metadata": {
        "id": "DlkPvhxPaw07",
        "colab_type": "text"
      },
      "source": [
        "Checking if certain value is present in list"
      ]
    },
    {
      "cell_type": "code",
      "metadata": {
        "id": "f7oRFqwgazes",
        "colab_type": "code",
        "colab": {}
      },
      "source": [
        "languages = ['Java', 'C++', 'Go', 'Python', 'JavaScript']\n",
        "if 'Python' in languages:\n",
        "    print('Python is there!')"
      ],
      "execution_count": null,
      "outputs": []
    },
    {
      "cell_type": "code",
      "metadata": {
        "id": "-ztNCuCfa1ZZ",
        "colab_type": "code",
        "colab": {}
      },
      "source": [
        "if 6 not in [1, 2, 3, 7]:\n",
        "    print('number 6 is not present')"
      ],
      "execution_count": null,
      "outputs": []
    },
    {
      "cell_type": "markdown",
      "metadata": {
        "id": "dEZGBS2sa3bO",
        "colab_type": "text"
      },
      "source": [
        "List are mutable"
      ]
    },
    {
      "cell_type": "code",
      "metadata": {
        "id": "TSMGFQsFa4Ds",
        "colab_type": "code",
        "colab": {}
      },
      "source": [
        "original = [1, 2, 3]\n",
        "modified = original\n",
        "modified[0] = 99\n",
        "print('original: {}, modified: {}'.format(original, modified))"
      ],
      "execution_count": null,
      "outputs": []
    },
    {
      "cell_type": "markdown",
      "metadata": {
        "id": "MuLhRqHga7C4",
        "colab_type": "text"
      },
      "source": [
        "You can get around this by creating new list:"
      ]
    },
    {
      "cell_type": "code",
      "metadata": {
        "id": "x26HgDXta7rN",
        "colab_type": "code",
        "colab": {}
      },
      "source": [
        "original = [1, 2, 3]\n",
        "modified = list(original)  # Note list() \n",
        "# Alternatively, you can use copy method\n",
        "# modified = original.copy()\n",
        "modified[0] = 99\n",
        "print('original: {}, modified: {}'.format(original, modified))"
      ],
      "execution_count": null,
      "outputs": []
    },
    {
      "cell_type": "markdown",
      "metadata": {
        "id": "lwOAGFnBa_UG",
        "colab_type": "text"
      },
      "source": [
        "**list.append()**"
      ]
    },
    {
      "cell_type": "code",
      "metadata": {
        "id": "UwGCa_raa-s0",
        "colab_type": "code",
        "colab": {}
      },
      "source": [
        "my_list = [1]\n",
        "my_list.append('ham')\n",
        "print(my_list)"
      ],
      "execution_count": null,
      "outputs": []
    },
    {
      "cell_type": "markdown",
      "metadata": {
        "id": "ZYu8qI9jbCpH",
        "colab_type": "text"
      },
      "source": [
        "**list.remove()**"
      ]
    },
    {
      "cell_type": "code",
      "metadata": {
        "id": "3prgu_sqbF-u",
        "colab_type": "code",
        "colab": {}
      },
      "source": [
        "my_list = ['Python', 'is', 'sometimes', 'fun']\n",
        "my_list.remove('sometimes')\n",
        "print(my_list)\n",
        "\n",
        "# If you are not sure that the value is in list, better to check first:\n",
        "if 'Java' in my_list:\n",
        "    my_list.remove('Java')\n",
        "else:\n",
        "    print('Java is not part of this story.')"
      ],
      "execution_count": null,
      "outputs": []
    },
    {
      "cell_type": "markdown",
      "metadata": {
        "id": "N9mqsSsFbH4r",
        "colab_type": "text"
      },
      "source": [
        "**list.sort()**"
      ]
    },
    {
      "cell_type": "code",
      "metadata": {
        "id": "VScM0pCDbJgq",
        "colab_type": "code",
        "colab": {}
      },
      "source": [
        "numbers = [8, 1, 6, 5, 10]\n",
        "numbers.sort()\n",
        "print('numbers: {}'.format(numbers))\n",
        "\n",
        "numbers.sort(reverse=True)\n",
        "print('numbers reversed: {}'.format(numbers))\n",
        "\n",
        "words = ['this', 'is', 'a', 'list', 'of', 'words']\n",
        "words.sort()\n",
        "print('words: {}'.format(words))"
      ],
      "execution_count": null,
      "outputs": []
    },
    {
      "cell_type": "markdown",
      "metadata": {
        "id": "KXM3CYhgbLFC",
        "colab_type": "text"
      },
      "source": [
        "**sorted(list)**"
      ]
    },
    {
      "cell_type": "markdown",
      "metadata": {
        "id": "4Sq57KAubN91",
        "colab_type": "text"
      },
      "source": [
        "While list.sort() sorts the list in-place, sorted(list) returns a new list and leaves the original untouched:"
      ]
    },
    {
      "cell_type": "code",
      "metadata": {
        "id": "L3JYnSfobPHm",
        "colab_type": "code",
        "colab": {}
      },
      "source": [
        "numbers = [8, 1, 6, 5, 10]\n",
        "sorted_numbers = sorted(numbers)\n",
        "print('numbers: {}, sorted: {}'.format(numbers, sorted_numbers))"
      ],
      "execution_count": null,
      "outputs": []
    },
    {
      "cell_type": "markdown",
      "metadata": {
        "id": "NUU1xU2IbQvX",
        "colab_type": "text"
      },
      "source": [
        "**list.extend()**"
      ]
    },
    {
      "cell_type": "code",
      "metadata": {
        "id": "yd9Acu09bT-3",
        "colab_type": "code",
        "colab": {}
      },
      "source": [
        "first_list = ['beef', 'ham']\n",
        "second_list = ['potatoes',1 ,3]\n",
        "first_list.extend(second_list)\n",
        "print('first: {}, second: {}'.format(first_list, second_list))"
      ],
      "execution_count": null,
      "outputs": []
    },
    {
      "cell_type": "markdown",
      "metadata": {
        "id": "JSGVIRMFbV1M",
        "colab_type": "text"
      },
      "source": [
        "Alternatively you can also extend lists by summing them:"
      ]
    },
    {
      "cell_type": "code",
      "metadata": {
        "id": "OYkjyc8pbXgA",
        "colab_type": "code",
        "colab": {}
      },
      "source": [
        "first = [1, 2, 3]\n",
        "second = [4, 5]\n",
        "first += second  # same as: first = first + second\n",
        "print('first: {}'.format(first))\n",
        "\n",
        "# If you need a new list\n",
        "summed = first + second\n",
        "print('summed: {}'.format(summed))"
      ],
      "execution_count": null,
      "outputs": []
    },
    {
      "cell_type": "markdown",
      "metadata": {
        "id": "zoPmIsOibZWL",
        "colab_type": "text"
      },
      "source": [
        "**list.reverse()**"
      ]
    },
    {
      "cell_type": "code",
      "metadata": {
        "id": "mSsUpt3nba4c",
        "colab_type": "code",
        "colab": {}
      },
      "source": [
        "my_list = ['a', 'b', 'ham']\n",
        "my_list.reverse()\n",
        "print(my_list)"
      ],
      "execution_count": null,
      "outputs": []
    },
    {
      "cell_type": "markdown",
      "metadata": {
        "id": "uynyRlxYll4E",
        "colab_type": "text"
      },
      "source": [
        "**LOOPS**"
      ]
    },
    {
      "cell_type": "code",
      "metadata": {
        "id": "2O3xTN8Plpd2",
        "colab_type": "code",
        "colab": {}
      },
      "source": [
        "my_list = [1, 2, 3, 4, 'Python', 'is', 'neat']\n",
        "for item in my_list:\n",
        "    print(item)"
      ],
      "execution_count": null,
      "outputs": []
    },
    {
      "cell_type": "code",
      "metadata": {
        "id": "_M8LUTi3lrdm",
        "colab_type": "code",
        "colab": {}
      },
      "source": [
        "for item in my_list:\n",
        "    if item == 'Python':\n",
        "        break\n",
        "    print(item)"
      ],
      "execution_count": null,
      "outputs": []
    },
    {
      "cell_type": "code",
      "metadata": {
        "id": "6BwvQIc8ltdm",
        "colab_type": "code",
        "colab": {}
      },
      "source": [
        "for item in my_list:\n",
        "    if item == 1:\n",
        "        continue\n",
        "    print(item)"
      ],
      "execution_count": null,
      "outputs": []
    },
    {
      "cell_type": "code",
      "metadata": {
        "id": "mCixvuY1lxLU",
        "colab_type": "code",
        "colab": {}
      },
      "source": [
        "# enumerate tells us the index\n",
        "\n",
        "for idx, val in enumerate(my_list):\n",
        "    print('idx: {}, value: {}'.format(idx, val))"
      ],
      "execution_count": null,
      "outputs": []
    },
    {
      "cell_type": "code",
      "metadata": {
        "id": "apAF-k6rl51L",
        "colab_type": "code",
        "colab": {}
      },
      "source": [
        "for number in range(5):\n",
        "    print(number)"
      ],
      "execution_count": null,
      "outputs": []
    },
    {
      "cell_type": "code",
      "metadata": {
        "id": "8bQIM5-el8O3",
        "colab_type": "code",
        "colab": {}
      },
      "source": [
        "for number in range(5):\n",
        "    print(number)"
      ],
      "execution_count": null,
      "outputs": []
    },
    {
      "cell_type": "code",
      "metadata": {
        "id": "w7ff1C74l-bB",
        "colab_type": "code",
        "colab": {}
      },
      "source": [
        "for number in range(2, 5):\n",
        "    print(number)"
      ],
      "execution_count": null,
      "outputs": []
    },
    {
      "cell_type": "code",
      "metadata": {
        "id": "jOCQG1cMl_w8",
        "colab_type": "code",
        "colab": {}
      },
      "source": [
        "for number in range(0, 10, 2):  # last one is step\n",
        "    print(number)"
      ],
      "execution_count": null,
      "outputs": []
    },
    {
      "cell_type": "markdown",
      "metadata": {
        "id": "9KSq1WMCmWVG",
        "colab_type": "text"
      },
      "source": [
        "**Dictionaries**"
      ]
    },
    {
      "cell_type": "code",
      "metadata": {
        "id": "nIzj7ZMZmJ5C",
        "colab_type": "code",
        "colab": {}
      },
      "source": [
        "my_empty_dict = {}  # alternative: my_empty_dict = dict()\n",
        "print('dict: {}, type: {}'.format(my_empty_dict, type(my_empty_dict)))"
      ],
      "execution_count": null,
      "outputs": []
    },
    {
      "cell_type": "code",
      "metadata": {
        "id": "j0m7RKSUmbeL",
        "colab_type": "code",
        "colab": {}
      },
      "source": [
        "dict1 = {'value1': 1.6, 'value2': 10, 'name': 'John Doe'}\n",
        "dict2 = dict(value1=1.6, value2=10, name='John Doe')\n",
        "\n",
        "print(dict1)\n",
        "print(dict2)\n",
        "\n",
        "print('equal: {}'.format(dict1 == dict2))\n",
        "print('length: {}'.format(len(dict1)))"
      ],
      "execution_count": null,
      "outputs": []
    },
    {
      "cell_type": "code",
      "metadata": {
        "id": "9AroSdiImsH2",
        "colab_type": "code",
        "colab": {}
      },
      "source": [
        "my_dict = {}\n",
        "my_dict['key1'] = 'value1'\n",
        "my_dict['key2'] = 99\n",
        "my_dict['key1'] = 'new value'  # overriding existing value\n",
        "print(my_dict)\n",
        "print('value of key1: {}'.format(my_dict['key1']))"
      ],
      "execution_count": null,
      "outputs": []
    },
    {
      "cell_type": "code",
      "metadata": {
        "id": "Y0ZyhRQdmw1f",
        "colab_type": "code",
        "colab": {}
      },
      "source": [
        "my_dict = {'key1': 'value1', 'key2': 99, 'keyX': 'valueX'}\n",
        "del my_dict['keyX']\n",
        "print(my_dict)\n",
        "\n",
        "# Usually better to make sure that the key exists (see also pop() and popitem())\n",
        "key_to_delete = 'my_key'\n",
        "if key_to_delete in my_dict:\n",
        "    del my_dict[key_to_delete]\n",
        "else:\n",
        "    print('{key} is not in {dictionary}'.format(key=key_to_delete, dictionary=my_dict))"
      ],
      "execution_count": null,
      "outputs": []
    },
    {
      "cell_type": "markdown",
      "metadata": {
        "id": "yvxfa95Amzo-",
        "colab_type": "text"
      },
      "source": [
        "Dictionaries are mutable¶"
      ]
    },
    {
      "cell_type": "code",
      "metadata": {
        "id": "6TTgmGCFm3mV",
        "colab_type": "code",
        "colab": {}
      },
      "source": [
        "my_dict = {'ham': 'good', 'carrot': 'semi good'}\n",
        "my_other_dict = my_dict\n",
        "my_other_dict['carrot'] = 'super tasty'\n",
        "my_other_dict['sausage'] = 'best ever'\n",
        "print('my_dict: {}\\nother: {}'.format(my_dict, my_other_dict))\n",
        "print('equal: {}'.format(my_dict == my_other_dict))"
      ],
      "execution_count": null,
      "outputs": []
    },
    {
      "cell_type": "markdown",
      "metadata": {
        "id": "1Z7MxIBDm5Gw",
        "colab_type": "text"
      },
      "source": [
        "Create a new dict if you want to have a copy:"
      ]
    },
    {
      "cell_type": "code",
      "metadata": {
        "id": "9LRRRvEdm8tZ",
        "colab_type": "code",
        "colab": {}
      },
      "source": [
        "my_dict = {'ham': 'good', 'carrot': 'semi good'}\n",
        "my_other_dict = dict(my_dict)\n",
        "my_other_dict['beer'] = 'decent'\n",
        "print('my_dict: {}\\nother: {}'.format(my_dict, my_other_dict))\n",
        "print('equal: {}'.format(my_dict == my_other_dict))"
      ],
      "execution_count": null,
      "outputs": []
    },
    {
      "cell_type": "markdown",
      "metadata": {
        "id": "u1jpxieunOBy",
        "colab_type": "text"
      },
      "source": [
        "**dict.get()**\n",
        "\n",
        "\n",
        "Returns None if key is not in dict. However, you can also specify default return value which will be returned if key is not present in the dict."
      ]
    },
    {
      "cell_type": "code",
      "metadata": {
        "id": "C6XOeHhhnV9i",
        "colab_type": "code",
        "colab": {}
      },
      "source": [
        "my_dict = {'a': 1, 'b': 2, 'c': 3}\n",
        "d = my_dict.get('d')\n",
        "print('d: {}'.format(d))\n",
        "\n",
        "d = my_dict.get('d', 'my default value')\n",
        "print('d: {}'.format(d))"
      ],
      "execution_count": null,
      "outputs": []
    },
    {
      "cell_type": "markdown",
      "metadata": {
        "id": "BuLN5Qa2ncNj",
        "colab_type": "text"
      },
      "source": [
        "\n",
        "**dict.pop()**"
      ]
    },
    {
      "cell_type": "code",
      "metadata": {
        "id": "5YX2qI53nfTf",
        "colab_type": "code",
        "colab": {}
      },
      "source": [
        "my_dict = dict(food='ham', drink='beer', sport='football')\n",
        "print('dict before pops: {}'.format(my_dict))\n",
        "\n",
        "food = my_dict.pop('food')\n",
        "print('food: {}'.format(food))\n",
        "print('dict after popping food: {}'.format(my_dict))\n",
        "\n",
        "food_again = my_dict.pop('food', 'default value for food')\n",
        "print('food again: {}'.format(food_again))\n",
        "print('dict after popping food again: {}'.format(my_dict))"
      ],
      "execution_count": null,
      "outputs": []
    },
    {
      "cell_type": "markdown",
      "metadata": {
        "id": "zKVAU8uynkGA",
        "colab_type": "text"
      },
      "source": [
        "**dict.setdefault()**\n",
        "\n",
        "Returns the value of key defined as first parameter. If the key is not present in the dict, adds key with default value (second parameter)."
      ]
    },
    {
      "cell_type": "code",
      "metadata": {
        "id": "BbUsi_H3noWN",
        "colab_type": "code",
        "colab": {}
      },
      "source": [
        "my_dict = {'a': 1, 'b': 2, 'c': 3}\n",
        "a = my_dict.setdefault('a', 'my default value')\n",
        "d = my_dict.setdefault('d', 'my default value')\n",
        "print('a: {}\\nd: {}\\nmy_dict: {}'.format(a, d, my_dict))"
      ],
      "execution_count": null,
      "outputs": []
    },
    {
      "cell_type": "markdown",
      "metadata": {
        "id": "u73zff4hn33u",
        "colab_type": "text"
      },
      "source": [
        "**Conditionals**"
      ]
    },
    {
      "cell_type": "code",
      "metadata": {
        "id": "Bhhn7EiRn9pJ",
        "colab_type": "code",
        "colab": {}
      },
      "source": [
        "print('type of True and False: {}'.format(type(True)))"
      ],
      "execution_count": null,
      "outputs": []
    },
    {
      "cell_type": "code",
      "metadata": {
        "id": "N0Oyfl2ln--r",
        "colab_type": "code",
        "colab": {}
      },
      "source": [
        "print('0: {}, 1: {}'.format(bool(0), bool(1)))\n",
        "print('empty list: {}, list with values: {}'.format(bool([]), bool(['woop'])))\n",
        "print('empty dict: {}, dict with values: {}'.format(bool({}), bool({'Python': 'cool'})))"
      ],
      "execution_count": null,
      "outputs": []
    },
    {
      "cell_type": "markdown",
      "metadata": {
        "id": "IdWF7a-WoC3o",
        "colab_type": "text"
      },
      "source": [
        "==, !=, >, <, >=, <="
      ]
    },
    {
      "cell_type": "code",
      "metadata": {
        "id": "4ppoa0IxoHLw",
        "colab_type": "code",
        "colab": {}
      },
      "source": [
        "print('1 == 0: {}'.format(1 == 0))\n",
        "print('1 != 0: {}'.format(1 != 0))\n",
        "print('1 > 0: {}'.format(1 > 0))\n",
        "print('1 > 1: {}'.format(1 > 1))\n",
        "print('1 < 0: {}'.format(1 < 0))\n",
        "print('1 < 1: {}'.format(1 < 1))\n",
        "print('1 >= 0: {}'.format(1 >= 0))\n",
        "print('1 >= 1: {}'.format(1 >= 1))\n",
        "print('1 <= 0: {}'.format(1 <= 0))\n",
        "print('1 <= 1: {}'.format(1 <= 1))"
      ],
      "execution_count": null,
      "outputs": []
    },
    {
      "cell_type": "code",
      "metadata": {
        "id": "IruWg3uEoIDE",
        "colab_type": "code",
        "colab": {}
      },
      "source": [
        "print('1 <= 2 <= 3: {}'.format(1 <= 2 <= 3))"
      ],
      "execution_count": null,
      "outputs": []
    },
    {
      "cell_type": "markdown",
      "metadata": {
        "id": "Aq_ALJW-oNCi",
        "colab_type": "text"
      },
      "source": [
        "**and, or, not**"
      ]
    },
    {
      "cell_type": "code",
      "metadata": {
        "id": "o3amEgoToO-L",
        "colab_type": "code",
        "colab": {}
      },
      "source": [
        "python_is_cool = True\n",
        "java_is_cool = False\n",
        "empty_list = []\n",
        "secret_value = 3.14"
      ],
      "execution_count": null,
      "outputs": []
    },
    {
      "cell_type": "code",
      "metadata": {
        "id": "AQqFTtbeoSRf",
        "colab_type": "code",
        "colab": {}
      },
      "source": [
        "print('Python and java are both cool: {}'.format(python_is_cool and java_is_cool))\n",
        "print('secret_value and python_is_cool: {}'.format(secret_value and python_is_cool))"
      ],
      "execution_count": null,
      "outputs": []
    },
    {
      "cell_type": "code",
      "metadata": {
        "id": "0QB7AhVzoU8R",
        "colab_type": "code",
        "colab": {}
      },
      "source": [
        "print('Python or java is cool: {}'.format(python_is_cool or java_is_cool))\n",
        "print('1 >= 1.1 or 2 < float(\"1.4\"): {}'.format(1 >= 1.1 or 2 < float('1.4')))"
      ],
      "execution_count": null,
      "outputs": []
    },
    {
      "cell_type": "code",
      "metadata": {
        "id": "b0OKw95roWq_",
        "colab_type": "code",
        "colab": {}
      },
      "source": [
        "print('Java is not cool: {}'.format(not java_is_cool))"
      ],
      "execution_count": null,
      "outputs": []
    },
    {
      "cell_type": "markdown",
      "metadata": {
        "id": "SfOnHTAooYqX",
        "colab_type": "text"
      },
      "source": [
        "You can combine multiple statements, execution order is from left to right. You can control the execution order by using brackets."
      ]
    },
    {
      "cell_type": "code",
      "metadata": {
        "id": "CI68cCpLoafv",
        "colab_type": "code",
        "colab": {}
      },
      "source": [
        "print(bool(not java_is_cool or secret_value and  python_is_cool or empty_list))\n",
        "print(bool(not (java_is_cool or secret_value and  python_is_cool or empty_list)))"
      ],
      "execution_count": null,
      "outputs": []
    },
    {
      "cell_type": "markdown",
      "metadata": {
        "id": "zdyJAxFVodUL",
        "colab_type": "text"
      },
      "source": [
        "**if if-else if-elif-else**"
      ]
    },
    {
      "cell_type": "code",
      "metadata": {
        "id": "N5BkCDyQoebk",
        "colab_type": "code",
        "colab": {}
      },
      "source": [
        "statement = True\n",
        "if statement:\n",
        "    print('statement is True')\n",
        "    \n",
        "if not statement:\n",
        "    print('statement is not True')"
      ],
      "execution_count": null,
      "outputs": []
    },
    {
      "cell_type": "code",
      "metadata": {
        "id": "fsz8tISBooZc",
        "colab_type": "code",
        "colab": {}
      },
      "source": [
        "empty_list = []\n",
        "# With if and elif, conversion to `bool` is implicit\n",
        "if empty_list:\n",
        "    print('empty list will not evaluate to True')  # this won't be executed"
      ],
      "execution_count": null,
      "outputs": []
    },
    {
      "cell_type": "code",
      "metadata": {
        "id": "q2-dmYcBoqd1",
        "colab_type": "code",
        "colab": {}
      },
      "source": [
        "val = 3\n",
        "if 0 <= val < 1 or val == 3:\n",
        "    print('Value is positive and less than one or value is three')"
      ],
      "execution_count": null,
      "outputs": []
    },
    {
      "cell_type": "code",
      "metadata": {
        "id": "fV2idjkQov9g",
        "colab_type": "code",
        "colab": {}
      },
      "source": [
        "my_dict = {}\n",
        "if my_dict:\n",
        "    print('there is something in my dict')\n",
        "else:\n",
        "    print('my dict is empty :(')"
      ],
      "execution_count": null,
      "outputs": []
    },
    {
      "cell_type": "code",
      "metadata": {
        "id": "BkWxyUOoox4S",
        "colab_type": "code",
        "colab": {}
      },
      "source": [
        "val = 88\n",
        "if val >= 100:\n",
        "    print('value is equal or greater than 100')\n",
        "elif val > 10:\n",
        "    print('value is greater than 10 but less than 100')\n",
        "else:\n",
        "    print('value is equal or less than 10')"
      ],
      "execution_count": null,
      "outputs": []
    },
    {
      "cell_type": "markdown",
      "metadata": {
        "id": "dO2N2Vf3o0rr",
        "colab_type": "text"
      },
      "source": [
        "You can have as many elif statements as you need. In addition, else at the end is not mandatory."
      ]
    },
    {
      "cell_type": "code",
      "metadata": {
        "id": "Q5GTvdYEo4mJ",
        "colab_type": "code",
        "colab": {}
      },
      "source": [
        "greeting = 'Hello fellow Pythonista!'\n",
        "language = 'Italian'\n",
        "\n",
        "if language == 'Swedish':\n",
        "    greeting = 'Hejsan!'\n",
        "elif language == 'Finnish':\n",
        "    greeting = 'Latua perkele!'\n",
        "elif language == 'Spanish':\n",
        "    greeting = 'Hola!'\n",
        "elif language == 'German':\n",
        "    greeting = 'Guten Tag!'\n",
        "    \n",
        "print(greeting)"
      ],
      "execution_count": null,
      "outputs": []
    },
    {
      "cell_type": "markdown",
      "metadata": {
        "id": "N6Q5VJFpWyPM",
        "colab_type": "text"
      },
      "source": [
        "**int**"
      ]
    },
    {
      "cell_type": "code",
      "metadata": {
        "id": "YI8xUxtPW0IM",
        "colab_type": "code",
        "colab": {}
      },
      "source": [
        "my_int = 6\n",
        "print('value: {}, type: {}'.format(my_int, type(my_int)))"
      ],
      "execution_count": null,
      "outputs": []
    },
    {
      "cell_type": "markdown",
      "metadata": {
        "id": "2HzogJGGW5FM",
        "colab_type": "text"
      },
      "source": [
        "**float**"
      ]
    },
    {
      "cell_type": "code",
      "metadata": {
        "id": "cIgvrKyjW4RD",
        "colab_type": "code",
        "colab": {}
      },
      "source": [
        "my_float = float(my_int)\n",
        "print('value: {}, type: {}'.format(my_float, type(my_float)))"
      ],
      "execution_count": null,
      "outputs": []
    },
    {
      "cell_type": "markdown",
      "metadata": {
        "id": "Q68wuotsXJZs",
        "colab_type": "text"
      },
      "source": [
        "Note that division of ints produces float:"
      ]
    },
    {
      "cell_type": "code",
      "metadata": {
        "id": "eioEvto9XNi_",
        "colab_type": "code",
        "colab": {}
      },
      "source": [
        "print(1 / 1)\n",
        "print(6 / 5)"
      ],
      "execution_count": null,
      "outputs": []
    },
    {
      "cell_type": "markdown",
      "metadata": {
        "id": "xZerMivoXPa4",
        "colab_type": "text"
      },
      "source": [
        "Be aware of the binary floating-point pitfalls (see Decimal for workaround):"
      ]
    },
    {
      "cell_type": "code",
      "metadata": {
        "id": "PbdbDhIBXRSL",
        "colab_type": "code",
        "colab": {}
      },
      "source": [
        "val = 0.1 + 0.1 + 0.1\n",
        "print(val == 0.3)\n",
        "print(val)"
      ],
      "execution_count": null,
      "outputs": []
    },
    {
      "cell_type": "markdown",
      "metadata": {
        "id": "hXRXKLC8XS63",
        "colab_type": "text"
      },
      "source": [
        "**Floor division //, modulus %, power ****"
      ]
    },
    {
      "cell_type": "code",
      "metadata": {
        "id": "DTPO4hJBXYXr",
        "colab_type": "code",
        "colab": {}
      },
      "source": [
        "7 // 5"
      ],
      "execution_count": null,
      "outputs": []
    },
    {
      "cell_type": "code",
      "metadata": {
        "id": "yklffnQyXZVn",
        "colab_type": "code",
        "colab": {}
      },
      "source": [
        "7 % 5"
      ],
      "execution_count": null,
      "outputs": []
    },
    {
      "cell_type": "code",
      "metadata": {
        "id": "_mnhMS17XaES",
        "colab_type": "code",
        "colab": {}
      },
      "source": [
        "2 ** 3"
      ],
      "execution_count": null,
      "outputs": []
    },
    {
      "cell_type": "markdown",
      "metadata": {
        "id": "ykMS9fF_XjH-",
        "colab_type": "text"
      },
      "source": [
        "**Operator precedence in calculations**"
      ]
    },
    {
      "cell_type": "markdown",
      "metadata": {
        "id": "pI1JtTqYXk2I",
        "colab_type": "text"
      },
      "source": [
        "Mathematical operator precedence applies. Use brackets if you want to change the execution order:"
      ]
    },
    {
      "cell_type": "code",
      "metadata": {
        "id": "8OF4KlieXmOe",
        "colab_type": "code",
        "colab": {}
      },
      "source": [
        "print(1 + 2**2 * 3 / 6) # 1 + 4 * 3 / 6 == 1 + 12 / 6 == 1 + 2\n",
        "print((1 + 2**2) * 3 / 6)"
      ],
      "execution_count": null,
      "outputs": []
    },
    {
      "cell_type": "markdown",
      "metadata": {
        "id": "gnm-4Wr7fX1U",
        "colab_type": "text"
      },
      "source": [
        "#Úlohy\n"
      ]
    },
    {
      "cell_type": "markdown",
      "metadata": {
        "id": "NNi-uBwHfdk0",
        "colab_type": "text"
      },
      "source": [
        "**Úloha 1**"
      ]
    },
    {
      "cell_type": "markdown",
      "metadata": {
        "id": "X3eHvejdfgWj",
        "colab_type": "text"
      },
      "source": [
        "Máte zadané pole stringov."
      ]
    },
    {
      "cell_type": "code",
      "metadata": {
        "id": "1qj5175CfnTd",
        "colab_type": "code",
        "colab": {}
      },
      "source": [
        "pole_na_rozdelenie = [\"Fiit\", \"fiit\", \"megadlhystring!!!\", \"autobiografia\", \"Alica\", \"python\", \"pip\", \"env\", \"jupyter\", \"IAU\"]"
      ],
      "execution_count": null,
      "outputs": []
    },
    {
      "cell_type": "markdown",
      "metadata": {
        "id": "RaGmXpqghnQW",
        "colab_type": "text"
      },
      "source": [
        "Napíšte funkciu, ktorá pre zadané pole stringov vráti nové pole obsahujúce len stringy na prvočíselných indexoch. Potom túto funkciu zavolajte s vyššie deklarovaným polom ako parameter."
      ]
    },
    {
      "cell_type": "code",
      "metadata": {
        "id": "W8ed3W40h529",
        "colab_type": "code",
        "colab": {}
      },
      "source": [
        "# Miesto pre Váš kód"
      ],
      "execution_count": null,
      "outputs": []
    },
    {
      "cell_type": "markdown",
      "metadata": {
        "id": "OsdZWqFsfvgk",
        "colab_type": "text"
      },
      "source": [
        "Napíšte program, ktorý vyššie deklarované pole rozdelí do 3 nových polí, pričom v jednom poli budú stringy dĺžky menej ako 5. V druhom poli stringy dĺžky medzi 5 a 10 (vrátane) a stringy začínajúce na písmeno \"a\" alebo ľubovoľné veľké písmeno pričom je string **ľubovoľnej** dĺžky. V treťom poli všetky ostatné stringy."
      ]
    },
    {
      "cell_type": "code",
      "metadata": {
        "id": "19OHF7shiDI9",
        "colab_type": "code",
        "colab": {}
      },
      "source": [
        "# Miesto pre Váš kód"
      ],
      "execution_count": null,
      "outputs": []
    },
    {
      "cell_type": "markdown",
      "metadata": {
        "id": "-sZ6ISJMp1bR",
        "colab_type": "text"
      },
      "source": [
        "**Úloha 2**"
      ]
    },
    {
      "cell_type": "markdown",
      "metadata": {
        "id": "MzlqAVbwp4qL",
        "colab_type": "text"
      },
      "source": [
        "Máme zadané pole intov."
      ]
    },
    {
      "cell_type": "code",
      "metadata": {
        "id": "9dEavPgJp7b1",
        "colab_type": "code",
        "colab": {}
      },
      "source": [
        "pole = [1, 4, 5, 1, 7, 5, 1, 5, 4, 2, 3, 4]"
      ],
      "execution_count": null,
      "outputs": []
    },
    {
      "cell_type": "markdown",
      "metadata": {
        "id": "Ie99LXSfqacF",
        "colab_type": "text"
      },
      "source": [
        "Napíšte funkciu, ktorá nám povie pre pole intov, či sa dá toto pole rozdeliť do dvoch polí s rovnakým súčtom. Potom túto funckiu zavolajte na vyššie deklarované pole."
      ]
    },
    {
      "cell_type": "code",
      "metadata": {
        "id": "EAdWK5t_qkhK",
        "colab_type": "code",
        "colab": {}
      },
      "source": [
        "# Váš kód"
      ],
      "execution_count": null,
      "outputs": []
    },
    {
      "cell_type": "markdown",
      "metadata": {
        "id": "R1wq2vxWqsAE",
        "colab_type": "text"
      },
      "source": [
        "Skúste túto funkciu rozšíriť. Ak sa toto pole dá rozdeliť do dvoch polí s rovnakým súčtom, vypíšte takéto dve polia (ľubovoľné, ktoré sĺňajú podmienku rovnakého súčtu)."
      ]
    },
    {
      "cell_type": "code",
      "metadata": {
        "id": "OdRvJkGsqrIW",
        "colab_type": "code",
        "colab": {}
      },
      "source": [
        "# Váš kód"
      ],
      "execution_count": null,
      "outputs": []
    }
  ]
}