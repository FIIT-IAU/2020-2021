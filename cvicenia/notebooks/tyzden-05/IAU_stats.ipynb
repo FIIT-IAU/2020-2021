{
 "cells": [
  {
   "cell_type": "markdown",
   "metadata": {
    "slideshow": {
     "slide_type": "slide"
    }
   },
   "source": [
    "# Štatistické testovanie hypotéz\n",
    "\n",
    "URL https://github.com/FIIT-IAU/IAU-2019-2020"
   ]
  },
  {
   "cell_type": "markdown",
   "metadata": {
    "slideshow": {
     "slide_type": "slide"
    }
   },
   "source": [
    "## Majme dve skupiny\n",
    "\n",
    "* Študenti, čo chodili na prednášky (boli na aspoň 50% prednášok)\n",
    "* Študenti, čo nechodili na prednášky (ostatní)"
   ]
  },
  {
   "cell_type": "code",
   "execution_count": null,
   "metadata": {
    "slideshow": {
     "slide_type": "skip"
    }
   },
   "outputs": [],
   "source": [
    "%matplotlib inline\n",
    "\n",
    "import numpy as np\n",
    "import pandas as pd\n",
    "import scipy.stats as stats\n",
    "import matplotlib.pyplot as plt \n",
    "import seaborn as sns\n",
    "import statsmodels.api as sm\n",
    "import statsmodels.stats as sm_stats\n",
    "import statsmodels.stats.api as sms"
   ]
  },
  {
   "cell_type": "markdown",
   "metadata": {
    "slideshow": {
     "slide_type": "slide"
    }
   },
   "source": [
    "## Vygenerujme si nejaké dáta"
   ]
  },
  {
   "cell_type": "code",
   "execution_count": null,
   "metadata": {
    "slideshow": {
     "slide_type": "fragment"
    }
   },
   "outputs": [],
   "source": [
    "np.random.seed(123)\n",
    "\n",
    "sample_size = 10\n",
    "m1 = 80\n",
    "m2 = 78\n",
    "s = 5\n",
    "\n",
    "attended = stats.norm(m1, s)\n",
    "not_attended = stats.norm(m2, s)\n",
    "\n",
    "a_sample = attended.rvs(sample_size)\n",
    "na_sample = not_attended.rvs(sample_size)"
   ]
  },
  {
   "cell_type": "markdown",
   "metadata": {
    "slideshow": {
     "slide_type": "slide"
    }
   },
   "source": [
    "## Teoreticky by sme mali pozorovať rozdiel"
   ]
  },
  {
   "cell_type": "code",
   "execution_count": null,
   "metadata": {
    "slideshow": {
     "slide_type": "fragment"
    }
   },
   "outputs": [],
   "source": [
    "x = np.linspace(60, 100, 100)\n",
    "plt.plot(x, attended.pdf(x), 'b')\n",
    "plt.plot(x, not_attended.pdf(x), 'r')"
   ]
  },
  {
   "cell_type": "markdown",
   "metadata": {
    "slideshow": {
     "slide_type": "slide"
    }
   },
   "source": [
    "## Ako vyzerajú naše \"namerané\" dáta?"
   ]
  },
  {
   "cell_type": "code",
   "execution_count": null,
   "metadata": {
    "slideshow": {
     "slide_type": "fragment"
    }
   },
   "outputs": [],
   "source": [
    "a_sample"
   ]
  },
  {
   "cell_type": "code",
   "execution_count": null,
   "metadata": {
    "slideshow": {
     "slide_type": "fragment"
    }
   },
   "outputs": [],
   "source": [
    "na_sample"
   ]
  },
  {
   "cell_type": "code",
   "execution_count": null,
   "metadata": {
    "slideshow": {
     "slide_type": "slide"
    }
   },
   "outputs": [],
   "source": [
    "a_sample.mean()"
   ]
  },
  {
   "cell_type": "code",
   "execution_count": null,
   "metadata": {
    "slideshow": {
     "slide_type": "fragment"
    }
   },
   "outputs": [],
   "source": [
    "na_sample.mean()"
   ]
  },
  {
   "cell_type": "markdown",
   "metadata": {
    "slideshow": {
     "slide_type": "fragment"
    }
   },
   "source": [
    "Študenti, čo *nechodili* na prednášky, majú v priemere vyššie finálne hodnotenie."
   ]
  },
  {
   "cell_type": "markdown",
   "metadata": {
    "slideshow": {
     "slide_type": "slide"
    }
   },
   "source": [
    "###  Môžem teda prehlásiť, že nechodenie na prednášky zlepšuje finálne hodnotenie na predmete?"
   ]
  },
  {
   "cell_type": "code",
   "execution_count": null,
   "metadata": {
    "slideshow": {
     "slide_type": "slide"
    }
   },
   "outputs": [],
   "source": [
    "df = pd.DataFrame({'attended': np.repeat([True, False], 10), 'score': np.concatenate((a_sample, na_sample))})\n",
    "sns.boxplot('attended', 'score', data=df)"
   ]
  },
  {
   "cell_type": "markdown",
   "metadata": {
    "slideshow": {
     "slide_type": "slide"
    }
   },
   "source": [
    "## Základný problém je, že nemeriame populácie, ale len ich vzorky\n",
    "\n",
    "Pracujeme teda len s odhadmi. **Ako si nimi môžeme byť istí?**\n",
    "\n",
    "<img src=\"https://s3-eu-west-1.amazonaws.com/blog.omniconvert.com-media/blog/wp-content/uploads/2019/10/21150245/sample-size-definition.png\" width=\"50%\" />\n",
    "\n",
    "### Štatistika nám ponúka nástroje, ako zistiť, či sú v dvoch štatistických súboroch odlišnosti\n",
    "- Je tam vôbec nejaký rozdiel? Nejaký asi bude\n",
    "- Je ten rozdiel malý alebo veľký? Tu nám štatistika veľmi nepomôže\n",
    "- Má nameraný rozdiel nejakú praktickú hodnotu? Ani na toto nám štatistika nedá odpoveď\n",
    "- Je nameraný rozdiel skutočný, alebo len kvôli náhode? Tu nám štatistika vie pomôcť!\n",
    "\n",
    "# Ako teda overiť, či je rozdiel medzi skupinami skutočný, a nie daný náhodou?\n",
    "- Štatistické testovanie hypotéz\n",
    "- Pri testovaní hypotéz uvažujeme pravdepodobnosť, že daný výsledok sme mohli dosiahnuť, ak by experimentálna procedúra nemala žiadny efekt\n",
    "- Predpoklad nulového efektu (rozdielu) = **nulová hypotéza**\n",
    "\n",
    "*Priemerné finálne hodnotenie študentov, čo chodili na prednášky, je rovnaké ako tých, čo na prednášky nechodili.*\n",
    "\n",
    "- Alternatívna hypotéza (ak by neplatila nulová)\n",
    "\n",
    "*Priemerné finálne hodnotenie študentov, čo chodili na prednášky, je iné/väčšie/menšie ako tých, čo na prednášky nechodili.*"
   ]
  },
  {
   "cell_type": "markdown",
   "metadata": {
    "slideshow": {
     "slide_type": "slide"
    }
   },
   "source": [
    "## Chyba 1. a 2. rádu\n",
    "\n",
    "<img src=\"https://chemicalstatistician.files.wordpress.com/2014/05/pregnant.jpg\" width=\"50%\" />"
   ]
  },
  {
   "cell_type": "markdown",
   "metadata": {
    "slideshow": {
     "slide_type": "slide"
    }
   },
   "source": [
    "## Postup pri štatistickom testovaní (1/2)\n",
    "1. Sformulujem nulovú a alternatívnu hypotézu\n",
    "2. Overím štatistické predpoklady distribúcií, z ktorých pochádzajú testované vzorky\n",
    "3. Na základe splnenia/nesplnenia predpokladov vyberiem vhodnú testovaciu štatistiku $T$\n",
    "4. Vyberiem akceptovateľnú pravedpodobnosť chyby 1. rádu $\\alpha$ (najčastejšie 0.05)\n",
    "5. Na základe distribúcie testovacej štatistiky $T$ a hodnoty $\\alpha$ určím *kritickú oblasť*, resp. *kritickú hodnotu*\n",
    "6. Na základe pozorovaní určím hodnotu testovacej štatistiky $t_{obs}$\n",
    "7. Ak $t_{obs}$ padne do kritickej oblasti, resp. ak plocha ohraničená $t_{obs}$ (tzv. $p$-hodnota) je menšia ako plocha kritickej oblasti ($\\alpha$), zamietam nulovú hypotézu. V opačnom prípade ju nemôžem zamietnuť.\n",
    "\n",
    "<!-- <img src=\"https://i.stack.imgur.com/idDTA.png\" /> //-->\n",
    "[<img src=\"critical-p-values.png\" />](https://www.geo.fu-berlin.de/en/v/soga/Basics-of-statistics/Hypothesis-Tests/Introduction-to-Hypothesis-Testing/Critical-Value-and-the-p-Value-Approach/index.html)\n"
   ]
  },
  {
   "cell_type": "markdown",
   "metadata": {
    "slideshow": {
     "slide_type": "slide"
    }
   },
   "source": [
    "# Už si len potrebujeme vybrať vhodný štatistický test!\n",
    "\n",
    "## Studentov t-test\n",
    "\n",
    "- t-štatistika bola predstavená v roku 1908 Williamom Sealy Gossetom v čase, keď pracoval ako chemik v pivovare Guinness.\n",
    "- t-test je založený na **t-distribúcii**.\n",
    "- t-distribúcia je podobná ako normálna distribúcia, ale má viac hmoty na chvostoch. So zväčšujúcim počtom pozorovaní sa približuje normálnej distribúcii.\n",
    "Výpočet t-štatitiky (pre dve nezávislé vzorky):\n",
    "\n",
    "## $t = \\frac{\\overline{X_1} - \\overline{X_2}}{s_p \\sqrt{\\frac{1}{n_1} - \\frac{1}{n_2}}}$, \n",
    "## $s_p = \\sqrt{\\frac{(n_1 - 1) s^2_{X_1} + (n_2 - 1) s^2_{X_2}}{n_1 + n_2  - 2}}$\n",
    "\n",
    "- t-test pre dve párové vzorky porovnáva, či je rozdiel dvojíc pozorovaní rôzny od nuly.\n",
    "\n",
    "### Predpoklady t-testu\n",
    "- Hodnoty v súboroch sú z normálneho rozdelenia\n",
    "- Súbory pochádzajú z distribúcií s podobne veľkou varianciou (rozptylom hodnôt) - existuje korekcia t-testu pre distribúcie s rôznou varianciou (*Welchov t-test*).\n",
    "- *t-test je odolný voči miernym odchýlkam od týchto predpokladov.*"
   ]
  },
  {
   "cell_type": "markdown",
   "metadata": {
    "slideshow": {
     "slide_type": "slide"
    }
   },
   "source": [
    "## Testovanie predpokladu normálnosti\n",
    "\n",
    "1. Vizuálna kontrola pomocou histogramu alebo tzv. kvantil-kvantilového grafu (QQ grafu) - najmä pri veľkých vzorkách\n",
    "2. Testom normálnosti, napr. pomocou **Shapiro-Wilkovho** testu."
   ]
  },
  {
   "cell_type": "code",
   "execution_count": null,
   "metadata": {
    "slideshow": {
     "slide_type": "slide"
    }
   },
   "outputs": [],
   "source": [
    "sns.distplot(a_sample, bins=5)"
   ]
  },
  {
   "cell_type": "code",
   "execution_count": null,
   "metadata": {
    "slideshow": {
     "slide_type": "slide"
    }
   },
   "outputs": [],
   "source": [
    "sns.distplot(na_sample, bins=5)"
   ]
  },
  {
   "cell_type": "markdown",
   "metadata": {
    "slideshow": {
     "slide_type": "slide"
    }
   },
   "source": [
    "### Kvantil-kvantilový graf (QQ graf, angl. *QQ-plot*)\n",
    "\n",
    "...je vizuálna metóda na určenie, či dve dátove sady pochádzajú z rovnakého rozdelenia. Najčastejšie sa porovnáva rozdelenie vzorky s teoretickým normálnym rozdelením. Bod na grafe zobrazuje hodnotu kvantilu v prvom a druhom porovnávanom datasete."
   ]
  },
  {
   "cell_type": "code",
   "execution_count": null,
   "metadata": {
    "slideshow": {
     "slide_type": "slide"
    }
   },
   "outputs": [],
   "source": [
    "_ = sm.ProbPlot(a_sample, fit=True).qqplot(line='45')"
   ]
  },
  {
   "cell_type": "code",
   "execution_count": null,
   "metadata": {
    "slideshow": {
     "slide_type": "fragment"
    }
   },
   "outputs": [],
   "source": [
    "_ = sm.ProbPlot(na_sample, fit=True).qqplot(line='45')"
   ]
  },
  {
   "cell_type": "markdown",
   "metadata": {
    "slideshow": {
     "slide_type": "slide"
    }
   },
   "source": [
    "### Ako interpretovať QQ graf?\n",
    "\n",
    "<img src=\"https://i.stack.imgur.com/ZXRkL.png\" />\n",
    "\n",
    "Zdroj: https://stats.stackexchange.com/questions/101274/how-to-interpret-a-qq-plot"
   ]
  },
  {
   "cell_type": "markdown",
   "metadata": {
    "slideshow": {
     "slide_type": "slide"
    }
   },
   "source": [
    "### Shapiro-Wilkov test normálnosti\n",
    "\n",
    "- Shapiro-Wilkov test testuje nulovú hypotézu, že dáta pochádzajú z normálneho rozdelenia.\n",
    "- Ak je $p < 0,05$, nulovú hypotézu zamietame a dáta pravdepodobne pochádzajú z iného ako normálneho rozdelenia. Ak je $p > 0,05$, nulovú hypotézu nezamietame, teda na základe dát nemôžeme prehlásiť, že by dáta pochádzali z iného, ako normálneho rozdelenia.\n",
    "- `scipy.stats.shapiro`: https://docs.scipy.org/doc/scipy/reference/generated/scipy.stats.shapiro.html"
   ]
  },
  {
   "cell_type": "code",
   "execution_count": null,
   "metadata": {
    "slideshow": {
     "slide_type": "fragment"
    }
   },
   "outputs": [],
   "source": [
    "stats.shapiro(a_sample)"
   ]
  },
  {
   "cell_type": "code",
   "execution_count": null,
   "metadata": {
    "slideshow": {
     "slide_type": "fragment"
    }
   },
   "outputs": [],
   "source": [
    "stats.shapiro(na_sample)"
   ]
  },
  {
   "cell_type": "markdown",
   "metadata": {
    "slideshow": {
     "slide_type": "slide"
    }
   },
   "source": [
    "## Test rovnakých variancií - Levenov test\n",
    "\n",
    "- Levenov test testuje nulovú hypotézu, že všetky vstupné vzorky pochádzajú z rozdelení s rovnakými varianciami.\n",
    "- Ak nulovú hypotézu nezamietame ($p > 0,05$), znamená to, že na základe dát nemôžeme prehlásiť, že by vzorky pochádzali z distribúcií s rôznymi varianciami."
   ]
  },
  {
   "cell_type": "markdown",
   "metadata": {
    "slideshow": {
     "slide_type": "fragment"
    }
   },
   "source": [
    "**Nedokázali sme tým však, že priemery sú rovnaké.**"
   ]
  },
  {
   "cell_type": "markdown",
   "metadata": {
    "slideshow": {
     "slide_type": "slide"
    }
   },
   "source": [
    "## Ako je to možné?\n",
    "\n",
    "Dáta sme generovali z rozdelení s rôznym priemerom."
   ]
  },
  {
   "cell_type": "markdown",
   "metadata": {
    "slideshow": {
     "slide_type": "fragment"
    }
   },
   "source": [
    "**Chyba 2. rádu** - použili sme test s nedostatočnou silou."
   ]
  },
  {
   "cell_type": "markdown",
   "metadata": {
    "slideshow": {
     "slide_type": "slide"
    }
   },
   "source": [
    "# Štatistická sila = $1 - \\beta$\n",
    "\n",
    "- Pravdepodobnosť, že nájdeme signifikantný rozdiel, ak exituje (zamietame $H_0$, keď je nepravdivá).\n",
    "- Pri nízkej sile testu nevieme identifikovať menšie efekty (rozdiely).\n",
    "- Vieme zvýšiť zväčšením počtu účastníkov (pozorovaní)."
   ]
  },
  {
   "cell_type": "markdown",
   "metadata": {
    "slideshow": {
     "slide_type": "slide"
    }
   },
   "source": [
    "## Silu testu, resp. potrebný počet účastníkov/pozorovaní vieme dopredu vypočítať!\n",
    "\n",
    "- Potrebujeme na to odhadnúť *veľkosť efektu*.\n",
    "- Viacero spôsobov, napr. **Cohenovo d**.\n",
    "\n",
    "## $d = \\frac{\\overline{x_1} - \\overline{x_2}}{s}$\n",
    "\n",
    "pričom\n",
    "\n",
    "## $s = \\sqrt{\\frac{(n_1 - 1) s^2_{X_1} + (n_2 - 1) s^2_{X_2}}{n_1 + n_2  - 2}}$\n",
    "\n",
    "- malý efekt = 0,2, stredný efekt = 0,5, veľký efekt = 0,8\n",
    "\n",
    "## V našom príklade rozdiel je, ale neboli sme schopní ho odmerať\n",
    "\n",
    "Mali sme len 10 pozorovaní\n"
   ]
  },
  {
   "cell_type": "code",
   "execution_count": null,
   "metadata": {
    "slideshow": {
     "slide_type": "fragment"
    }
   },
   "outputs": [],
   "source": [
    "def cohen_d(x1, x2):\n",
    "    nx1 = len(x1)\n",
    "    nx2 = len(x2)\n",
    "    s = np.sqrt(((nx1-1) * np.std(x1, ddof=1)**2 + (nx2-1) * np.std(x2, ddof=1)**2) / (nx1 + nx2 - 2))\n",
    "    return (np.abs(np.mean(x1) - np.mean(x2))) / s"
   ]
  },
  {
   "cell_type": "code",
   "execution_count": null,
   "metadata": {
    "slideshow": {
     "slide_type": "fragment"
    }
   },
   "outputs": [],
   "source": [
    "c_d = cohen_d(a_sample, na_sample)\n",
    "c_d"
   ]
  },
  {
   "cell_type": "code",
   "execution_count": null,
   "metadata": {
    "slideshow": {
     "slide_type": "fragment"
    }
   },
   "outputs": [],
   "source": [
    "sm_stats.power.tt_ind_solve_power(c_d, len(a_sample), 0.05, None, 1)"
   ]
  },
  {
   "cell_type": "markdown",
   "metadata": {},
   "source": [
    "`statsmodels.stats.power.tt_ind_solve_power`:\n",
    "https://www.statsmodels.org/stable/generated/statsmodels.stats.power.tt_ind_solve_power.html"
   ]
  },
  {
   "cell_type": "markdown",
   "metadata": {
    "slideshow": {
     "slide_type": "slide"
    }
   },
   "source": [
    "## V literatúre sa vo všeobecnosti považuje za akceptovateľnú sila 0,8"
   ]
  },
  {
   "cell_type": "code",
   "execution_count": null,
   "metadata": {
    "slideshow": {
     "slide_type": "fragment"
    }
   },
   "outputs": [],
   "source": [
    "sm_stats.power.tt_ind_solve_power(c_d, None, 0.05, 0.8, 1)"
   ]
  },
  {
   "cell_type": "markdown",
   "metadata": {
    "slideshow": {
     "slide_type": "fragment"
    }
   },
   "source": [
    "V skutočnosti by nám stačilo menej pozorovaní (keďže sme dáta generovali, poznáme skutočné hodnoty priemerov a smerodajnej odchýlky):"
   ]
  },
  {
   "cell_type": "code",
   "execution_count": null,
   "metadata": {
    "slideshow": {
     "slide_type": "fragment"
    }
   },
   "outputs": [],
   "source": [
    "sm_stats.power.tt_ind_solve_power((m1-m2)/s, None, 0.05, 0.8, 1)"
   ]
  },
  {
   "cell_type": "markdown",
   "metadata": {
    "slideshow": {
     "slide_type": "slide"
    }
   },
   "source": [
    "## t-test znovu, tentokrát s väčším počtom pozorovaní (100 pre každú skupinu)"
   ]
  },
  {
   "cell_type": "code",
   "execution_count": null,
   "metadata": {
    "slideshow": {
     "slide_type": "fragment"
    }
   },
   "outputs": [],
   "source": [
    "a_sample2 = attended.rvs(100)\n",
    "na_sample2 = not_attended.rvs(100)"
   ]
  },
  {
   "cell_type": "code",
   "execution_count": null,
   "metadata": {
    "slideshow": {
     "slide_type": "fragment"
    }
   },
   "outputs": [],
   "source": [
    "a_sample2.mean()"
   ]
  },
  {
   "cell_type": "code",
   "execution_count": null,
   "metadata": {
    "slideshow": {
     "slide_type": "fragment"
    }
   },
   "outputs": [],
   "source": [
    "na_sample2.mean()"
   ]
  },
  {
   "cell_type": "code",
   "execution_count": null,
   "metadata": {
    "slideshow": {
     "slide_type": "skip"
    }
   },
   "outputs": [],
   "source": [
    "plt.rcParams[\"figure.figsize\"] = (10,7)"
   ]
  },
  {
   "cell_type": "code",
   "execution_count": null,
   "metadata": {
    "slideshow": {
     "slide_type": "slide"
    }
   },
   "outputs": [],
   "source": [
    "df2 = pd.DataFrame({'attended': np.repeat([True, False], 100), 'score': np.concatenate((a_sample2, na_sample2))})\n",
    "sns.boxplot('attended', 'score', data=df)"
   ]
  },
  {
   "cell_type": "code",
   "execution_count": null,
   "metadata": {
    "slideshow": {
     "slide_type": "fragment"
    }
   },
   "outputs": [],
   "source": [
    "stats.ttest_ind(a_sample2, na_sample2)"
   ]
  },
  {
   "cell_type": "markdown",
   "metadata": {
    "slideshow": {
     "slide_type": "slide"
    }
   },
   "source": [
    "## Na základe t-testu zamietame nulovú hypotézu\n",
    "\n",
    "Ale odhady priemerov stále nezodpovedajú skutočným hodnotám."
   ]
  },
  {
   "cell_type": "markdown",
   "metadata": {
    "slideshow": {
     "slide_type": "fragment"
    }
   },
   "source": [
    "*Ako zistiť presnosť tohto odhadu, resp. aká je skutočná hodnota priemeru?*"
   ]
  },
  {
   "cell_type": "markdown",
   "metadata": {
    "slideshow": {
     "slide_type": "fragment"
    }
   },
   "source": [
    "**Intervaly spoľahlivosti**"
   ]
  },
  {
   "cell_type": "markdown",
   "metadata": {
    "slideshow": {
     "slide_type": "slide"
    }
   },
   "source": [
    "## Intervaly spoľahlivosti\n",
    "\n",
    "Miera spoľahlivosti $C$ (napr. 95%) nám hovorí, v koľkých percentách zostavených intervalov spoľahlivosti by sa nachádzala skutočná odhadovaná hodnota populácie (napr. priemer), ak by som z populácie testoval nekonečne veľa vzoriek.\n",
    "\n",
    "Pre neznámu smerodajnú odchýlku používame hodnoty z t-distribúcie:\n",
    "\n",
    "$ \\overline{x} \\pm t_{\\alpha}(n-1)\\frac{s}{\\sqrt{n}} $\n",
    "\n",
    "$ \\alpha = \\frac{1-C}{2} $"
   ]
  },
  {
   "cell_type": "markdown",
   "metadata": {
    "slideshow": {
     "slide_type": "slide"
    }
   },
   "source": [
    "## Príklad: prieskum verejnej mienky\n",
    "\n",
    "<img src=\"img/election-poll2.png\" alt=\"Confidence intervals in an election poll\" width=\"25%\"/>"
   ]
  },
  {
   "cell_type": "code",
   "execution_count": null,
   "metadata": {
    "slideshow": {
     "slide_type": "slide"
    }
   },
   "outputs": [],
   "source": [
    "sms.DescrStatsW(a_sample).tconfint_mean()"
   ]
  },
  {
   "cell_type": "code",
   "execution_count": null,
   "metadata": {
    "slideshow": {
     "slide_type": "fragment"
    }
   },
   "outputs": [],
   "source": [
    "sms.DescrStatsW(na_sample).tconfint_mean()"
   ]
  },
  {
   "cell_type": "code",
   "execution_count": null,
   "metadata": {
    "slideshow": {
     "slide_type": "skip"
    }
   },
   "outputs": [],
   "source": [
    "plt.rcParams[\"figure.figsize\"] = (6,4)"
   ]
  },
  {
   "cell_type": "code",
   "execution_count": null,
   "metadata": {
    "slideshow": {
     "slide_type": "fragment"
    }
   },
   "outputs": [],
   "source": [
    "sns.barplot(x='attended', y='score', data=df, capsize=0.1, errwidth=2, palette=sns.color_palette(\"Blues\"))"
   ]
  },
  {
   "cell_type": "code",
   "execution_count": null,
   "metadata": {
    "slideshow": {
     "slide_type": "slide"
    }
   },
   "outputs": [],
   "source": [
    "sms.DescrStatsW(a_sample2).tconfint_mean()"
   ]
  },
  {
   "cell_type": "code",
   "execution_count": null,
   "metadata": {
    "slideshow": {
     "slide_type": "fragment"
    }
   },
   "outputs": [],
   "source": [
    "sms.DescrStatsW(na_sample2).tconfint_mean()"
   ]
  },
  {
   "cell_type": "code",
   "execution_count": null,
   "metadata": {
    "slideshow": {
     "slide_type": "fragment"
    }
   },
   "outputs": [],
   "source": [
    "sns.barplot(x='attended', y='score', data=df2, capsize=0.1, errwidth=2, palette=sns.color_palette(\"Blues\"))"
   ]
  },
  {
   "cell_type": "markdown",
   "metadata": {
    "slideshow": {
     "slide_type": "slide"
    }
   },
   "source": [
    "## V našom príklade sme mali dve skupiny - čo ak by sme ich mali viac?"
   ]
  },
  {
   "cell_type": "markdown",
   "metadata": {
    "slideshow": {
     "slide_type": "fragment"
    }
   },
   "source": [
    "$\\alpha = 0.05$\n",
    "\n",
    "* 1 test: 5% pravdepodobnosť chyby\n",
    "* 2 testy: $1 – (1-0,05)^2 \\approx 9.75\\%$ pravd. chyby\n",
    "* 10 testov: $1 – (1-0,05)^{10} \\approx 40.1\\%$ pravd. chyby\n",
    "* 25 testov: $1 – (1-0,05)^{25} \\approx 72.3\\%$ pravd. chyby"
   ]
  },
  {
   "cell_type": "markdown",
   "metadata": {
    "slideshow": {
     "slide_type": "slide"
    }
   },
   "source": [
    "## S rastúcim počtom testovaných skupín rastie chyba 1. rádu\n",
    "\n",
    "### Chyby 1. rádu môžeme kontrolovať\n",
    "\n",
    "**FWER (Familywise error rate)** = Pravdepodobnosť, že zamietneme aspoň jednu pravdivú $H_i$ (*spravíme chybu 1. rádu*) pri testovaní skupiny nulových hypotéz\n",
    "\n",
    "**Bonferroniho korekcia** \n",
    "\n",
    "$p_i \\leq \\alpha/m$, kde $m$ je počet hypotéz (párových testov)\n",
    "\n",
    "Majme 4 testovacie podmienky, $\\alpha = 0.05$ => 6 párových testov, $p_i \\leq 0.05/6 = 0.0083$\n",
    "\n",
    "*Alebo ešte lepšie - použiť test pre viacero skupín (napr. ANOVA) v kombinácii s párovými post-hoc testami.*"
   ]
  },
  {
   "cell_type": "markdown",
   "metadata": {
    "slideshow": {
     "slide_type": "slide"
    }
   },
   "source": [
    "## Reportovať p-hodnotu nestačí\n",
    "- Hovorí len o tom, či existuje nejaký efekt\n",
    "- Je závislá od veľkosti vzorky; pri dostatočne veľkých vzorkách takmer vždy zistíme signifikantný rozdiel\n",
    "- Treba reportovať aj **veľkosť efektu**. http://www.ncbi.nlm.nih.gov/pmc/articles/PMC3444174"
   ]
  },
  {
   "cell_type": "code",
   "execution_count": null,
   "metadata": {
    "slideshow": {
     "slide_type": "slide"
    }
   },
   "outputs": [],
   "source": [
    "attended2 = stats.norm(80, 5)\n",
    "not_attended2 = stats.norm(79.9, 5)\n",
    "\n",
    "a_sample3 = attended2.rvs(100000)\n",
    "na_sample3 = not_attended2.rvs(100000)"
   ]
  },
  {
   "cell_type": "code",
   "execution_count": null,
   "metadata": {
    "slideshow": {
     "slide_type": "fragment"
    }
   },
   "outputs": [],
   "source": [
    "a_sample3.mean()"
   ]
  },
  {
   "cell_type": "code",
   "execution_count": null,
   "metadata": {
    "slideshow": {
     "slide_type": "fragment"
    }
   },
   "outputs": [],
   "source": [
    "na_sample3.mean()"
   ]
  },
  {
   "cell_type": "code",
   "execution_count": null,
   "metadata": {
    "slideshow": {
     "slide_type": "fragment"
    }
   },
   "outputs": [],
   "source": [
    "stats.ttest_ind(a_sample3, na_sample3)"
   ]
  },
  {
   "cell_type": "markdown",
   "metadata": {
    "slideshow": {
     "slide_type": "slide"
    }
   },
   "source": [
    "# Už viete pomocou štatistiky testovať hypotézy\n",
    "- * rozdiel v pozorovaniach (priemeroch) môže byť daný náhodou\n",
    "- * štatistika nám poskytuje nástroje, ako rozhodnúť, či sú pozorované rozdiely významné (nie dané náhodou); nehovorí však, či je zistený rozdiel praktický (závisí vždy od konkrétneho problému)\n",
    "- * je veľa testov - treba vedieť, ktorý kedy môžem použiť (väčšinou majú predpoklady, ktoré musia byť splnené)\n",
    "- * ak nezamietam nulovú hypotézu, neznamená, že som ju dokázal - je dosť možné, že som len použil test s nedostatočnou silou (mal som málo pozorovaní) na to, aby som ju mohol zamietnuť\n",
    "- * pozor na opakované testovania nad rovnakými dátami - rastie pravdepodobnosť chyby 1. rádu\n",
    "\n",
    "### Frekvenčná vs. bayesovská štatistika\n",
    "- Bolo o  frekvenčnej štatistike.\n",
    "- Táto je založená na predstave, že pravdepodobnosť je **frekvencia**, s ktorou nastanú isté javy.\n",
    "- Bayesovská štatistika vníma pravdepodobnosť ako vyjadrenie **neistoty** ohľadom nejakej informácie alebo javu."
   ]
  },
  {
   "cell_type": "markdown",
   "metadata": {
    "slideshow": {
     "slide_type": "slide"
    }
   },
   "source": [
    "## Online kurzy\n",
    "\n",
    "### Coursera\n",
    "\n",
    "- Statistical Inference (https://www.coursera.org/learn/statistical-inference; súčasť *Data Science* špecializácie)\n",
    "- Statistics with Python Specialization (https://www.coursera.org/specializations/statistics-with-python)\n",
    "- Statistics with R Specialization (https://www.coursera.org/specializations/statistics)\n",
    "\n",
    "### Udemy\n",
    "\n",
    "- Introduction to Statistics as Covered in the Social, Behavioral, and Natural Sciences (https://www.udemy.com/course/introduction-to-statistics/)\n",
    "- Statistics for Business Analytics and Data Science A-Z (https://www.udemy.com/course/data-statistics/)\n",
    "\n",
    "### Iné\n",
    "\n",
    "- Statistics (Khan Academy): https://www.youtube.com/playlist?list=PL1328115D3D8A2566"
   ]
  },
  {
   "cell_type": "markdown",
   "metadata": {
    "slideshow": {
     "slide_type": "slide"
    }
   },
   "source": [
    "## Zdroje\n",
    "\n",
    "Izabela & Krzysztof Krejtz: Statistical Analysis with R (Lecture), January 2016.\n",
    "\n",
    "Brian Caffo: Little Inference Book (https://leanpub.com/LittleInferenceBook)\n",
    "\n",
    "Andy Fields, Jeremy Miles & Zoe Field: Discovering Statistics Using R (https://www.discoveringstatistics.com/books/discovering-statistics-using-r/)\n",
    "\n",
    "Alex Reinhard: Statistics Done Woefully Wrong (https://www.statisticsdonewrong.com/)\n",
    "\n",
    "Will Kurt: Bayesian Statistics the Fun Way (https://nostarch.com/learnbayes)"
   ]
  }
 ],
 "metadata": {
  "kernelspec": {
   "display_name": "Python 3",
   "language": "python",
   "name": "python3"
  },
  "language_info": {
   "codemirror_mode": {
    "name": "ipython",
    "version": 3
   },
   "file_extension": ".py",
   "mimetype": "text/x-python",
   "name": "python",
   "nbconvert_exporter": "python",
   "pygments_lexer": "ipython3",
   "version": "3.8.4"
  }
 },
 "nbformat": 4,
 "nbformat_minor": 2
}
