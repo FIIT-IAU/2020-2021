{
 "cells": [
  {
   "cell_type": "code",
   "execution_count": null,
   "metadata": {},
   "outputs": [],
   "source": [
    "# -*- coding: utf-8 -*-\n",
    "#\n",
    "# Licensed under the Apache License, Version 2.0 (the \"License\");\n",
    "# you may not use this file except in compliance with the License.\n",
    "# You may obtain a copy of the License at\n",
    "#\n",
    "#    http://www.apache.org/licenses/LICENSE-2.0\n",
    "#\n",
    "# Unless required by applicable law or agreed to in writing, software\n",
    "# distributed under the License is distributed on an \"AS IS\" BASIS,\n",
    "# WITHOUT WARRANTIES OR CONDITIONS OF ANY KIND, either express or\n",
    "# implied.\n",
    "# See the License for the specific language governing permissions and\n",
    "# limitations under the License.\n",
    "#"
   ]
  },
  {
   "cell_type": "markdown",
   "metadata": {},
   "source": [
    "# Hyperparameter tuning\n",
    "\n",
    "## Grid search"
   ]
  },
  {
   "cell_type": "code",
   "execution_count": null,
   "metadata": {},
   "outputs": [],
   "source": [
    "from sklearn import svm\n",
    "from sklearn import datasets\n",
    "from sklearn.model_selection import GridSearchCV\n",
    "from pprint import pprint\n",
    "\n",
    "iris = datasets.load_iris()\n",
    "# print(iris.target)\n",
    "\n",
    "estimator = svm.SVC()\n",
    "parameters = {'kernel':('linear', 'rbf'), \n",
    "              'C':[1, 10]}\n",
    "scoring = ['accuracy', \n",
    "           'precision_micro']\n",
    "\n",
    "clf = GridSearchCV(estimator=estimator, \n",
    "                   param_grid=parameters,\n",
    "                   cv=5,\n",
    "                   scoring=scoring,\n",
    "                   refit='accuracy')\n",
    "search = clf.fit(iris.data, iris.target)\n",
    "\n",
    "# pprint(sorted(clf.cv_results_.keys()))\n",
    "print(search.best_estimator_)\n",
    "print(search.best_score_)\n",
    "print(search.best_params_)\n",
    "print(search.n_splits_)\n",
    "# pprint(search.cv_results_)"
   ]
  },
  {
   "cell_type": "markdown",
   "metadata": {},
   "source": [
    "## Random Search"
   ]
  },
  {
   "cell_type": "code",
   "execution_count": null,
   "metadata": {},
   "outputs": [],
   "source": [
    "from sklearn.datasets import load_iris\n",
    "from sklearn.linear_model import LogisticRegression\n",
    "from sklearn.model_selection import RandomizedSearchCV\n",
    "from scipy.stats import uniform\n",
    "from pprint import pprint\n",
    "\n",
    "iris = load_iris()\n",
    "\n",
    "estimator = LogisticRegression(solver='saga', \n",
    "                               tol=1e-2, \n",
    "                               max_iter=200,\n",
    "                               random_state=0)\n",
    "\n",
    "distributions = dict(C=uniform(loc=0, scale=4),\n",
    "                     penalty=['l2', 'l1'])\n",
    "\n",
    "clf = RandomizedSearchCV(estimator, \n",
    "                         distributions, \n",
    "                         random_state=0)\n",
    "\n",
    "search = clf.fit(iris.data, iris.target)\n",
    "\n",
    "print(search.best_estimator_)\n",
    "print(search.best_score_)\n",
    "print(search.best_params_)\n",
    "print(search.n_splits_)\n",
    "# pprint(search.cv_results_)"
   ]
  },
  {
   "cell_type": "code",
   "execution_count": null,
   "metadata": {},
   "outputs": [],
   "source": []
  }
 ],
 "metadata": {
  "kernelspec": {
   "display_name": "Python 3",
   "language": "python",
   "name": "python3"
  },
  "language_info": {
   "codemirror_mode": {
    "name": "ipython",
    "version": 3
   },
   "file_extension": ".py",
   "mimetype": "text/x-python",
   "name": "python",
   "nbconvert_exporter": "python",
   "pygments_lexer": "ipython3",
   "version": "3.8.4"
  }
 },
 "nbformat": 4,
 "nbformat_minor": 4
}
