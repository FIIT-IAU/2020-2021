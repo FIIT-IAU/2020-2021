{
 "cells": [
  {
   "cell_type": "code",
   "execution_count": null,
   "metadata": {},
   "outputs": [],
   "source": [
    "# -*- coding: utf-8 -*-\n",
    "#\n",
    "# Licensed under the Apache License, Version 2.0 (the \"License\");\n",
    "# you may not use this file except in compliance with the License.\n",
    "# You may obtain a copy of the License at\n",
    "#\n",
    "#    http://www.apache.org/licenses/LICENSE-2.0\n",
    "#\n",
    "# Unless required by applicable law or agreed to in writing, software\n",
    "# distributed under the License is distributed on an \"AS IS\" BASIS,\n",
    "# WITHOUT WARRANTIES OR CONDITIONS OF ANY KIND, either express or\n",
    "# implied.\n",
    "# See the License for the specific language governing permissions and\n",
    "# limitations under the License.\n",
    "#"
   ]
  },
  {
   "cell_type": "markdown",
   "metadata": {},
   "source": [
    "# Genetic Algorithm (GA) for Machine Learning (ML)\n",
    "URL https://datascienceplus.com/genetic-algorithm-in-machine-learning-using-python/\n",
    "\n",
    "#### GA limitations\n",
    "- Not suitable for simple problems with available derivative information\n",
    "- Frequent calculation of fitness value is computationally expensive for some problems\n",
    "- Stochastic, i.e., no guarantee of the result solution being optimal\n",
    "- No guarantee of convergence to the optimal solution if not implemented properly"
   ]
  },
  {
   "cell_type": "code",
   "execution_count": null,
   "metadata": {},
   "outputs": [],
   "source": [
    "import numpy as np\n",
    "import pandas as pd\n",
    "import random\n",
    "import matplotlib.pyplot\n",
    "%matplotlib inline\n",
    "\n",
    "from sklearn.datasets import load_breast_cancer\n",
    "from sklearn.model_selection import train_test_split\n",
    "from sklearn.linear_model import LogisticRegression\n",
    "from sklearn.metrics import accuracy_score"
   ]
  },
  {
   "cell_type": "markdown",
   "metadata": {},
   "source": [
    "#### Data"
   ]
  },
  {
   "cell_type": "code",
   "execution_count": null,
   "metadata": {},
   "outputs": [],
   "source": [
    "#import the breast cancer dataset \n",
    "from sklearn.datasets import load_breast_cancer\n",
    "cancer=load_breast_cancer()\n",
    "df = pd.DataFrame(cancer['data'], columns=cancer['feature_names'])\n",
    "label=cancer[\"target\"]\n",
    "\n",
    "#splitting the model into training and testing set\n",
    "X_train, X_test, y_train, y_test = train_test_split(df, \n",
    "                                                    label, \n",
    "                                                    test_size=0.30, \n",
    "                                                    random_state=101)"
   ]
  },
  {
   "cell_type": "markdown",
   "metadata": {},
   "source": [
    "## ML modeling with Logistic Regression"
   ]
  },
  {
   "cell_type": "code",
   "execution_count": null,
   "metadata": {},
   "outputs": [],
   "source": [
    "warning = False\n",
    "\n",
    "if warning:\n",
    "    # without warning, better convergence of Logistic Regression, but worse GA effect (below)\n",
    "    logmodel = LogisticRegression(max_iter=5000)\n",
    "else:\n",
    "    # a lot of warning, worse convergence for Logistic regression, but this example shows better effect o GA\n",
    "    import warnings\n",
    "    warnings.filterwarnings('ignore')\n",
    "    logmodel = LogisticRegression(max_iter=100)\n",
    "\n",
    "# fit model\n",
    "logmodel.fit(X_train,y_train)\n",
    "\n",
    "# prediction\n",
    "predictions = logmodel.predict(X_test)\n",
    "print(\"Accuracy = \"+ str(accuracy_score(y_test,predictions)))"
   ]
  },
  {
   "cell_type": "markdown",
   "metadata": {},
   "source": [
    "## Genetic Algorithm (GA)"
   ]
  },
  {
   "cell_type": "code",
   "execution_count": null,
   "metadata": {},
   "outputs": [],
   "source": [
    "#defining various steps required for the genetic algorithm\n",
    "def initilization_of_population(size, n_feat):\n",
    "    population = []\n",
    "    for i in range(size):\n",
    "        chromosome = np.ones(n_feat, dtype=np.bool)\n",
    "        chromosome[:int(0.3*n_feat)]=False\n",
    "        np.random.shuffle(chromosome)\n",
    "        population.append(chromosome)\n",
    "    return population\n",
    "\n",
    "\n",
    "# use logistic regression as the fitness score function\n",
    "def fitness_score(population):\n",
    "    scores = []\n",
    "    for chromosome in population:\n",
    "        logmodel.fit(X_train.iloc[:,chromosome],y_train)\n",
    "        predictions = logmodel.predict(X_test.iloc[:,chromosome])\n",
    "        scores.append(accuracy_score(y_test,predictions))\n",
    "    scores, population = np.array(scores), np.array(population) \n",
    "    inds = np.argsort(scores)\n",
    "    return list(scores[inds][::-1]), list(population[inds,:][::-1])\n",
    "\n",
    "\n",
    "def selection(pop_after_fit, n_parents):\n",
    "    population_nextgen = []\n",
    "    for i in range(n_parents):\n",
    "        population_nextgen.append(pop_after_fit[i])\n",
    "    return population_nextgen\n",
    "\n",
    "\n",
    "def crossover(pop_after_sel):\n",
    "    population_nextgen=pop_after_sel\n",
    "    for i in range(len(pop_after_sel)):\n",
    "        child=pop_after_sel[i]\n",
    "        child[3:7]=pop_after_sel[(i+1)%len(pop_after_sel)][3:7]\n",
    "        population_nextgen.append(child)\n",
    "    return population_nextgen\n",
    "\n",
    "\n",
    "def mutation(pop_after_cross,mutation_rate):\n",
    "    population_nextgen = []\n",
    "    for i in range(0,len(pop_after_cross)):\n",
    "        chromosome = pop_after_cross[i]\n",
    "        for j in range(len(chromosome)):\n",
    "            if random.random() < mutation_rate:\n",
    "                chromosome[j]= not chromosome[j]\n",
    "        population_nextgen.append(chromosome)\n",
    "    #print(population_nextgen)\n",
    "    return population_nextgen\n",
    "\n",
    "\n",
    "def generations(size,\n",
    "                n_feat,\n",
    "                n_parents,\n",
    "                mutation_rate,\n",
    "                n_gen,\n",
    "                X_train,\n",
    "                X_test, \n",
    "                y_train, \n",
    "                y_test):\n",
    "    best_chromo= []\n",
    "    best_score= []\n",
    "    population_nextgen=initilization_of_population(size, n_feat)\n",
    "    for i in range(n_gen):\n",
    "        scores, pop_after_fit = fitness_score(population_nextgen)\n",
    "        print(i, scores[:2])\n",
    "        \n",
    "        pop_after_sel = selection(pop_after_fit, n_parents)\n",
    "        pop_after_cross = crossover(pop_after_sel)\n",
    "        population_nextgen = mutation(pop_after_cross, mutation_rate)\n",
    "        \n",
    "        best_chromo.append(pop_after_fit[0])\n",
    "        best_score.append(scores[0])  \n",
    "    return best_chromo, best_score"
   ]
  },
  {
   "cell_type": "markdown",
   "metadata": {},
   "source": [
    "## Optimization ML by GA\n",
    "**Note: long running**"
   ]
  },
  {
   "cell_type": "code",
   "execution_count": null,
   "metadata": {},
   "outputs": [],
   "source": [
    "chromo, score=generations(size=200,\n",
    "                          n_feat=30,\n",
    "                          n_parents=100,\n",
    "                          mutation_rate=0.10,\n",
    "                          n_gen=38,\n",
    "                          X_train=X_train,\n",
    "                          X_test=X_test,\n",
    "                          y_train=y_train,\n",
    "                          y_test=y_test)"
   ]
  },
  {
   "cell_type": "code",
   "execution_count": null,
   "metadata": {},
   "outputs": [],
   "source": [
    "logmodel.fit(X_train.iloc[:,chromo[-1]], y_train)\n",
    "predictions = logmodel.predict(X_test.iloc[:,chromo[-1]])\n",
    "print(\"Accuracy score after GA is= \" + str(accuracy_score(y_test,predictions)))"
   ]
  },
  {
   "cell_type": "markdown",
   "metadata": {},
   "source": [
    "# Other source\n",
    "- pip install geneticalgorithm https://pypi.org/project/geneticalgorithm/"
   ]
  }
 ],
 "metadata": {
  "kernelspec": {
   "display_name": "Python 3",
   "language": "python",
   "name": "python3"
  },
  "language_info": {
   "codemirror_mode": {
    "name": "ipython",
    "version": 3
   },
   "file_extension": ".py",
   "mimetype": "text/x-python",
   "name": "python",
   "nbconvert_exporter": "python",
   "pygments_lexer": "ipython3",
   "version": "3.8.4"
  }
 },
 "nbformat": 4,
 "nbformat_minor": 4
}
