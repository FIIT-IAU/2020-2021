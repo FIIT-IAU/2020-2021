{
 "cells": [
  {
   "cell_type": "code",
   "execution_count": null,
   "metadata": {},
   "outputs": [],
   "source": [
    "# -*- coding: utf-8 -*-\n",
    "#\n",
    "# Licensed under the Apache License, Version 2.0 (the \"License\");\n",
    "# you may not use this file except in compliance with the License.\n",
    "# You may obtain a copy of the License at\n",
    "#\n",
    "#    http://www.apache.org/licenses/LICENSE-2.0\n",
    "#\n",
    "# Unless required by applicable law or agreed to in writing, software\n",
    "# distributed under the License is distributed on an \"AS IS\" BASIS,\n",
    "# WITHOUT WARRANTIES OR CONDITIONS OF ANY KIND, either express or\n",
    "# implied.\n",
    "# See the License for the specific language governing permissions and\n",
    "# limitations under the License.\n",
    "#"
   ]
  },
  {
   "cell_type": "markdown",
   "metadata": {},
   "source": [
    "# Estimating Pi value with Monte Carlo simulation\n",
    "\n",
    "URL https://medium.com/cantors-paradise/calculating-the-value-of-pi-using-random-numbers-a-monte-carlo-simulation-d4b80dc12bdf"
   ]
  },
  {
   "cell_type": "code",
   "execution_count": null,
   "metadata": {},
   "outputs": [],
   "source": [
    "import numpy as np\n",
    "import random\n",
    "import matplotlib.pyplot as plt\n",
    "%matplotlib inline\n",
    "\n",
    "#Defining the lines of the square:\n",
    "horiz = np.array(range(100))/100.0\n",
    "y_1 = np.ones(100)\n",
    "plt.plot(horiz , y_1, 'b')\n",
    "vert = np.array(range(100))/100.0\n",
    "x_1 = np.ones(100)\n",
    "plt.plot(x_1 , vert, 'b')\n",
    "\n",
    "#Plotting the random points:\n",
    "inside = 0\n",
    "i=1\n",
    "n=int(input(\"Enter the total number of points: \"))\n",
    "\n",
    "while (i<=n):\n",
    "    x = random.random()\n",
    "    y = random.random()\n",
    "    if ((x**2)+(y**2))<=1:\n",
    "        inside+=1\n",
    "        plt.plot(x , y , 'go')\n",
    "    else:\n",
    "        plt.plot(x , y , 'ro')\n",
    "    i+=1\n",
    "pi=(4*inside)/n\n",
    "print (\"The value of pi is:\")\n",
    "print(pi)\n",
    "plt.show()"
   ]
  },
  {
   "cell_type": "code",
   "execution_count": null,
   "metadata": {},
   "outputs": [],
   "source": []
  }
 ],
 "metadata": {
  "kernelspec": {
   "display_name": "Python 3",
   "language": "python",
   "name": "python3"
  },
  "language_info": {
   "codemirror_mode": {
    "name": "ipython",
    "version": 3
   },
   "file_extension": ".py",
   "mimetype": "text/x-python",
   "name": "python",
   "nbconvert_exporter": "python",
   "pygments_lexer": "ipython3",
   "version": "3.8.4"
  }
 },
 "nbformat": 4,
 "nbformat_minor": 4
}
