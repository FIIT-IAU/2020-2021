{
 "cells": [
  {
   "cell_type": "code",
   "execution_count": null,
   "metadata": {},
   "outputs": [],
   "source": [
    "# -*- coding: utf-8 -*-\n",
    "#\n",
    "# Licensed under the Apache License, Version 2.0 (the \"License\");\n",
    "# you may not use this file except in compliance with the License.\n",
    "# You may obtain a copy of the License at\n",
    "#\n",
    "#    http://www.apache.org/licenses/LICENSE-2.0\n",
    "#\n",
    "# Unless required by applicable law or agreed to in writing, software\n",
    "# distributed under the License is distributed on an \"AS IS\" BASIS,\n",
    "# WITHOUT WARRANTIES OR CONDITIONS OF ANY KIND, either express or\n",
    "# implied.\n",
    "# See the License for the specific language governing permissions and\n",
    "# limitations under the License.\n",
    "#"
   ]
  },
  {
   "cell_type": "markdown",
   "metadata": {
    "slideshow": {
     "slide_type": "slide"
    }
   },
   "source": [
    "# Decission trees\n",
    "\n",
    "URLs\n",
    "* [IAML: Decision Trees - slides](http://www.inf.ed.ac.uk/teaching/courses/iaml/2011/slides/dt.pdf)\n",
    "* [Decision tree pruning](https://www.ismll.uni-hildesheim.de/lehre/ml-08w/skript/decision_trees2.pdf)\n",
    "* https://github.com/FIIT-IAU/IAU-2019-2020"
   ]
  },
  {
   "cell_type": "code",
   "execution_count": null,
   "metadata": {},
   "outputs": [],
   "source": [
    "import pandas as pd\n",
    "import numpy as np\n",
    "from sklearn import tree\n",
    "\n",
    "import matplotlib.pyplot as plt\n",
    "import seaborn\n",
    "plt.rcParams['figure.figsize'] = 15, 10"
   ]
  },
  {
   "cell_type": "markdown",
   "metadata": {},
   "source": [
    "# 1. Iris dataset"
   ]
  },
  {
   "cell_type": "code",
   "execution_count": null,
   "metadata": {},
   "outputs": [],
   "source": [
    "from sklearn.datasets import load_iris\n",
    "\n",
    "# X, y = load_iris(return_X_y=True)\n",
    "iris = load_iris()\n",
    "X = iris.data\n",
    "y = iris.target\n",
    "\n",
    "clf = tree.DecisionTreeClassifier()\n",
    "clf = clf.fit(X, y)\n",
    "\n",
    "tree.plot_tree(clf) "
   ]
  },
  {
   "cell_type": "code",
   "execution_count": null,
   "metadata": {},
   "outputs": [],
   "source": [
    "from sklearn.model_selection import cross_val_score\n",
    "\n",
    "cross_val_score(clf, iris.data, iris.target, cv=10)"
   ]
  },
  {
   "cell_type": "markdown",
   "metadata": {},
   "source": [
    "# 2. Weather dataset (typical example of decision tree usage)"
   ]
  },
  {
   "cell_type": "code",
   "execution_count": null,
   "metadata": {
    "slideshow": {
     "slide_type": "fragment"
    }
   },
   "outputs": [],
   "source": [
    "# data = pd.read_csv('tenis.csv')\n",
    "data = pd.read_csv('weather.csv')\n",
    "data"
   ]
  },
  {
   "cell_type": "code",
   "execution_count": null,
   "metadata": {
    "slideshow": {
     "slide_type": "slide"
    }
   },
   "outputs": [],
   "source": [
    "from sklearn.tree import DecisionTreeClassifier\n",
    "cls = DecisionTreeClassifier(criterion='entropy')\n",
    "\n",
    "# X = data.loc[data.index < 14, ['Outlook', 'Humidity', 'Wind']]\n",
    "X = data.loc[data.index < 14, ['Outlook', 'Temperature', 'Humidity', 'Wind']]\n",
    "y = data.loc[data.index < 14, 'Play']\n",
    "cls.fit(X, y)"
   ]
  },
  {
   "cell_type": "markdown",
   "metadata": {
    "slideshow": {
     "slide_type": "slide"
    }
   },
   "source": [
    "### Scikit-learn vie pracovať len s numerickými hodnotami"
   ]
  },
  {
   "cell_type": "code",
   "execution_count": null,
   "metadata": {
    "slideshow": {
     "slide_type": "slide"
    }
   },
   "outputs": [],
   "source": [
    "# One-hot kodovanie vsetkych dat okrem predikovaneho stlpcu\n",
    "encoded = pd.concat([pd.get_dummies(data[column], prefix=column) for column in set(data.columns) - {'Play'}], axis=1)\n",
    "encoded"
   ]
  },
  {
   "cell_type": "markdown",
   "metadata": {
    "slideshow": {
     "slide_type": "slide"
    }
   },
   "source": [
    "### Pozor, v predchádzajúcom kóde som spravil zle?\n",
    "\n",
    "- **Použil som testovacie dáta na natrénovanie transformácie.**\n",
    "- Posledné pozorovanie patrí do testovacích dát. One hot encoder, ktorý som použil sa pozrel na všetky unikátne hodnoty v dátach vrátane testovacích a vytvoril pre každú unikátnu hodnotu nový stĺpec. \n",
    "- Čo by sa stalo ak by som v testovacích dátach mal hodnotu, ktorá sa v trenovacích nenachádza?\n",
    "- Čo by sa malo stať po správnosti?"
   ]
  },
  {
   "cell_type": "markdown",
   "metadata": {
    "slideshow": {
     "slide_type": "slide"
    }
   },
   "source": [
    "## 2.1 Vyberiem si len trénovacie dáta a natrénujem klasifikátor"
   ]
  },
  {
   "cell_type": "code",
   "execution_count": null,
   "metadata": {
    "slideshow": {
     "slide_type": "fragment"
    }
   },
   "outputs": [],
   "source": [
    "X = encoded[encoded.index < 14]\n",
    "y = data.loc[data.index < 14, 'Play']\n",
    "\n",
    "cls.fit(X, y)"
   ]
  },
  {
   "cell_type": "code",
   "execution_count": null,
   "metadata": {
    "slideshow": {
     "slide_type": "fragment"
    }
   },
   "outputs": [],
   "source": [
    "test = encoded[encoded.index == 14]\n",
    "cls.predict(test)"
   ]
  },
  {
   "cell_type": "markdown",
   "metadata": {
    "slideshow": {
     "slide_type": "slide"
    }
   },
   "source": [
    "## 2.2 Natrénovaný strom si môžem vizualizovať"
   ]
  },
  {
   "cell_type": "code",
   "execution_count": null,
   "metadata": {
    "slideshow": {
     "slide_type": "slide"
    }
   },
   "outputs": [],
   "source": [
    "from sklearn.tree import export_graphviz\n",
    "from graphviz import Source\n",
    "from IPython.display import SVG\n",
    "\n",
    "graph = Source(export_graphviz(cls, \n",
    "                               out_file=None,\n",
    "                               feature_names=encoded.columns,\n",
    "                               class_names=['no', 'yes'],\n",
    "                               filled = True))\n",
    "\n",
    "display(SVG(graph.pipe(format='svg')))\n",
    "\n",
    "from IPython.display import HTML # toto je tu len pre to aby sa mi obrazok zmestil na obrazovku\n",
    "style = \"<style>svg{width:70% !important;height:70% !important;}</style>\"\n",
    "HTML(style)"
   ]
  },
  {
   "cell_type": "markdown",
   "metadata": {
    "slideshow": {
     "slide_type": "slide"
    }
   },
   "source": [
    "# 3. Breast cancer dataset (overfitting example)"
   ]
  },
  {
   "cell_type": "code",
   "execution_count": null,
   "metadata": {
    "slideshow": {
     "slide_type": "slide"
    }
   },
   "outputs": [],
   "source": [
    "from sklearn.datasets import load_breast_cancer\n",
    "\n",
    "data = load_breast_cancer()\n",
    "\n",
    "label_names = data['target_names']\n",
    "labels = data['target']\n",
    "\n",
    "feature_names = data['feature_names']\n",
    "features = data['data']"
   ]
  },
  {
   "cell_type": "code",
   "execution_count": null,
   "metadata": {
    "slideshow": {
     "slide_type": "slide"
    }
   },
   "outputs": [],
   "source": [
    "from sklearn.metrics import accuracy_score\n",
    "from sklearn.model_selection import train_test_split\n",
    "\n",
    "# Rozdelíme údaje\n",
    "X_train, X_test, y_train, y_test = train_test_split(features, labels, test_size=0.2, random_state=4)\n",
    "\n",
    "print('# train data: ', len(X_train))\n",
    "print('# test data: ', len(X_test))"
   ]
  },
  {
   "cell_type": "markdown",
   "metadata": {
    "slideshow": {
     "slide_type": "slide"
    }
   },
   "source": [
    "## 3.1 Natrénujem si viacero stromov\n",
    "**kde každému obmedzím jeho maximálnu hĺbku aby som vytvoril stromy s rôznou zložitosťou.**"
   ]
  },
  {
   "cell_type": "code",
   "execution_count": null,
   "metadata": {
    "slideshow": {
     "slide_type": "-"
    }
   },
   "outputs": [],
   "source": [
    "results = []\n",
    "estimators = []\n",
    "for i in range(1, X_train.shape[1] + 1):  \n",
    "    row = {'model_complexity': i}\n",
    "    \n",
    "    # Vytvoríme rozhodovací strom\n",
    "    # strom s maximalnou hlbkou 1-pocet atributov,  simulujeme tak zlozitost modelu\n",
    "    clf = DecisionTreeClassifier(max_depth = i) \n",
    "    \n",
    "    # natrenovanie modelu a predikovanie na trenovacej sade\n",
    "    pred = clf.fit(X_train, y_train).predict(X_train) \n",
    "    \n",
    "    # chyba na trenovacej sade\n",
    "    row['train'] = 1-accuracy_score(y_train, pred) \n",
    "    \n",
    "    # predickcia\n",
    "    pred = clf.predict(X_test)\n",
    "    \n",
    "    # chyba na testovacej sade\n",
    "    row['test'] = 1-accuracy_score(y_test, pred) \n",
    "    results.append(row)\n",
    "    estimators.append(clf)"
   ]
  },
  {
   "cell_type": "code",
   "execution_count": null,
   "metadata": {
    "slideshow": {
     "slide_type": "slide"
    }
   },
   "outputs": [],
   "source": [
    "complexity_df = pd.DataFrame(results)\n",
    "complexity_df.head()"
   ]
  },
  {
   "cell_type": "code",
   "execution_count": null,
   "metadata": {
    "slideshow": {
     "slide_type": "slide"
    }
   },
   "outputs": [],
   "source": [
    "complexity_df.plot(x='model_complexity')"
   ]
  },
  {
   "cell_type": "markdown",
   "metadata": {
    "slideshow": {
     "slide_type": "fragment"
    }
   },
   "source": [
    "S rastúcou zložitosťou modelu sa mi nijak nezmenšuje chyba na trénovanej vzorke. Na testovacej tiež nie. Väčšinou sa dokonca zväčšuje. Toto je indikátor toho, že sme ten model preučili. Naučil sa dáta a nie vzťahy za nimi. Model zle zovšeobecňuje / generalizuje vzory v dátach. Ak skúšame predikciu na iných dátach, tak narazíme na veľkú chybu spôsobenú varianciou."
   ]
  },
  {
   "cell_type": "markdown",
   "metadata": {
    "slideshow": {
     "slide_type": "slide"
    }
   },
   "source": [
    "## 3.2 Môžeme si skúsiť vizualizovať rôzne natrénované modely"
   ]
  },
  {
   "cell_type": "code",
   "execution_count": null,
   "metadata": {
    "slideshow": {
     "slide_type": "slide"
    }
   },
   "outputs": [],
   "source": [
    "# len jeden atribut pouzity na rozhodnutie\n",
    "graph = Source(export_graphviz(estimators[0], \n",
    "                               out_file=None,\n",
    "                               feature_names=feature_names,\n",
    "                               class_names=label_names,\n",
    "                               filled = True))\n",
    "\n",
    "display(SVG(graph.pipe(format='svg')))\n",
    "\n",
    "# toto je tu len pre to aby sa mi obrazok zmestil na obrazovku\n",
    "from IPython.display import HTML \n",
    "style = \"<style>svg{width:100% !important;height:100% !important;}</style>\"\n",
    "HTML(style)"
   ]
  },
  {
   "cell_type": "code",
   "execution_count": null,
   "metadata": {
    "slideshow": {
     "slide_type": "slide"
    }
   },
   "outputs": [],
   "source": [
    "# model, za ktorym zacala rast chyba na validacnej vzorke\n",
    "graph = Source(export_graphviz(estimators[4], \n",
    "                               out_file=None,\n",
    "                               feature_names=feature_names,\n",
    "                               class_names=label_names,\n",
    "                               filled = True))\n",
    "\n",
    "display(SVG(graph.pipe(format='svg')))\n",
    "\n",
    "# toto je tu len pre to aby sa mi obrazok zmestil na obrazovku\n",
    "from IPython.display import HTML \n",
    "style = \"<style>svg{width:70% !important;height:70% !important;}</style>\"\n",
    "HTML(style)"
   ]
  },
  {
   "cell_type": "code",
   "execution_count": null,
   "metadata": {
    "slideshow": {
     "slide_type": "slide"
    }
   },
   "outputs": [],
   "source": [
    "graph = Source(export_graphviz(estimators[-1], # najzlozitejsi model\n",
    "                               out_file=None,\n",
    "                               feature_names=feature_names,\n",
    "                               class_names=label_names,\n",
    "                               filled = True))\n",
    "\n",
    "display(SVG(graph.pipe(format='svg')))\n",
    "\n",
    "# toto je tu len pre to aby sa mi obrazok zmestil na obrazovku\n",
    "from IPython.display import HTML \n",
    "style = \"<style>svg{width:40% !important;height:40% !important;}</style>\"\n",
    "HTML(style)"
   ]
  },
  {
   "cell_type": "markdown",
   "metadata": {
    "slideshow": {
     "slide_type": "slide"
    }
   },
   "source": [
    "# 4. Ako riešiť overfitting (opakovanie z 6. a 8. týždňa)\n",
    "\n",
    "- **Získať viac dát :)**\n",
    "- **Zjednodušenie modelu**\n",
    "\n",
    "#### Feature selection\n",
    "- Filter\n",
    "- Wrapper\n",
    "- Embedded\n",
    "\n",
    "#### Ensemble learning\n",
    "* **Bagging** \n",
    "Kombinovanie predikcii **nezávislých** modelov do jednej predikcie. Každý model musí byť **lepší ako náhoda**.\n",
    "Používa sa na zníženie variancie\n",
    "\n",
    "* **Boosting** \n",
    "Používa na zníženie biasu. Pozor, môže zvýšiť varianciu!\n",
    "Iteratívne trénovanie ďalších klasifikátorov so zvýšenou váhou na tie pozorovania, na ktorých sa predchádzajúcim modelom nedarilo\n",
    "\n",
    "#### Pruning\n",
    "- Reduced-Error Pruning\n",
    "- Rule Post-Pruning\n",
    "\n",
    "## 4.1 Feature selection - Filter\n",
    "- Najjednoduchšia možnosť je vyhodiť atribúty, ktoré majú všade rovnaké hodnoty\n",
    "- Pozor, nie malú varianciu. Hlavne pri nevyvážených triedach môžu byt práve takéto atribúty veľmi užitočné\n",
    "\n",
    "### 4.1.2 VarianceThreshold"
   ]
  },
  {
   "cell_type": "code",
   "execution_count": null,
   "metadata": {
    "slideshow": {
     "slide_type": "slide"
    }
   },
   "outputs": [],
   "source": [
    "from sklearn.feature_selection import VarianceThreshold\n",
    "\n",
    "X = np.array([[0, 2, 0, 3], [0, 1, 4, 3], [0, 1, 1, 3]])\n",
    "X"
   ]
  },
  {
   "cell_type": "code",
   "execution_count": null,
   "metadata": {
    "slideshow": {
     "slide_type": "fragment"
    }
   },
   "outputs": [],
   "source": [
    "selector = VarianceThreshold(threshold=0.0)\n",
    "selector.fit_transform(X)"
   ]
  },
  {
   "cell_type": "markdown",
   "metadata": {
    "slideshow": {
     "slide_type": "slide"
    }
   },
   "source": [
    "### 4.1.2 Môžeme vyberať atribúty aj na základe závislosti atribútu a predikovanej hodnoty"
   ]
  },
  {
   "cell_type": "code",
   "execution_count": null,
   "metadata": {
    "slideshow": {
     "slide_type": "slide"
    }
   },
   "outputs": [],
   "source": [
    "from sklearn.datasets import load_iris\n",
    "from sklearn.feature_selection import SelectKBest\n",
    "from sklearn.feature_selection import chi2 # daju sa pouzit aj ine metriky\n",
    "\n",
    "iris = load_iris()\n",
    "X, y = iris.data, iris.target\n",
    "X.shape"
   ]
  },
  {
   "cell_type": "markdown",
   "metadata": {
    "slideshow": {
     "slide_type": "slide"
    }
   },
   "source": [
    "**Napr.  Chi kvadrát použijeme na kvantifikovanie závislosti k predikovanej premennej, najlepšie atribúty necháme.**"
   ]
  },
  {
   "cell_type": "code",
   "execution_count": null,
   "metadata": {
    "slideshow": {
     "slide_type": "fragment"
    }
   },
   "outputs": [],
   "source": [
    "X_new = SelectKBest(chi2, k=2).fit_transform(X, y)\n",
    "X_new.shape"
   ]
  },
  {
   "cell_type": "markdown",
   "metadata": {
    "slideshow": {
     "slide_type": "slide"
    }
   },
   "source": [
    "### [Scikit-learn: Metrics](https://scikit-learn.org/stable/modules/classes.html?highlight=metrics#module-sklearn.metrics)\n",
    "- Klasifikácia\n",
    "  * chi2 - nezáporné čísla\n",
    "  * mutual_info_classif - diskrétne dáta\n",
    "  * f_classif - ANOVA medzi predikovanou premennou a atribútmi\n",
    "- Regresia\n",
    "  * f_regression - F test medzi predikovanou hodnotou a atribútmi\n",
    "  * mutual_info_regression - Mutual information na reálnych číslach\n",
    "\n",
    "### [Scikit-learn: Feature Section](https://scikit-learn.org/stable/modules/classes.html#module-sklearn.feature_selection)\n",
    "**Výber K najlepších alebo nejaký percentil alebo nechať počet atribútov na štatistický test.**\n",
    "\n",
    "* [SelectKBest](https://scikit-learn.org/stable/modules/generated/sklearn.feature_selection.SelectKBest.html) \n",
    "* [SelectPercentile](https://scikit-learn.org/stable/modules/generated/sklearn.feature_selection.SelectPercentile.html#sklearn.feature_selection.SelectPercentile)\n",
    "* SelectFpr - false positive rate\n",
    "* SelectFdr - false discovery rate  \n",
    "* SelectFwe - family wise error\n",
    "* GenericUnivariateSelect - Všetko dohromady a stratégia sa dá nastaviť parametrom"
   ]
  },
  {
   "cell_type": "markdown",
   "metadata": {
    "slideshow": {
     "slide_type": "slide"
    }
   },
   "source": [
    "## 4.2 Feature selection - Wrapper\n",
    "\n",
    "- Hľadáme podmnožinu atribútov, na ktorej bude model dávať najlepšie výsledky\n",
    "- Skúšame rôzne podmnožiny, opakovane trénujeme nové modely a vyberáme tú najlepšiu podmnožinu, na ktorej model funguje najlepšie\n",
    "\n",
    "### Problém\n",
    "\n",
    "- Ak máme dataset s N atribútmi, tak počet rôznych podmnožín je $2^N$ --> natrénovať $2^N$ krát modelu.\n",
    "- Chcelo by to nájsť proces, ktorý minimalizuje počet pokusov a zároveň maximalizuje úspešnosť modelu\n",
    "\n",
    "### Scikit-Learn\n",
    "\n",
    "* RFE - Recursive feature elimination\n",
    "  - Postupne vyhadzovanie atribútov, ktoré majú v modeli najnižšiu váhu (potrebujeme aby to model vedel povedať) \n",
    "\n",
    "* RFECV - RFE with cross-validation\n",
    "  - RFE s krízovou validáciou\n",
    "\n",
    "### Mlxtend\n",
    "\n",
    "* Sequential Forward Selection (SFS)\n",
    "  - Postupne zväčšuje množinu atribútov o ten, ktorý najviac prispel k zlepšeniu\n",
    "  - Začína s množinami veľkosti 1, vyberie najlepšiu a zafixuje atribút. K fixovanému atribútu pridá ďalší a vytvorí všetky možne podmnožiny veľkosti 2 s jedným zafixovaným atribútom. Vyberie najlepšiu ...\n",
    "\n",
    "* Sequential Backward Selection (SBS)\n",
    "  - Postupne zmenšuje množinu atribútov o ten, ktorý najmenej pomáhal.\n",
    "\n",
    "* Sequential Floating Forward Selection (SFFS)\n",
    " -  SFS s pokusom o vyhodenie už pridaných atribútov ak sa ukáže že veľmi nepomáhajú \n",
    "\n",
    "* Sequential Floating Backward Selection (SFBS)\n",
    " - SBS s pokusom o pridanie už raz vyhodeného atribútu"
   ]
  },
  {
   "cell_type": "markdown",
   "metadata": {
    "slideshow": {
     "slide_type": "slide"
    }
   },
   "source": [
    "### Priklad SFS"
   ]
  },
  {
   "cell_type": "code",
   "execution_count": null,
   "metadata": {
    "slideshow": {
     "slide_type": "slide"
    }
   },
   "outputs": [],
   "source": [
    "from sklearn.neighbors import KNeighborsClassifier\n",
    "from sklearn.datasets import load_iris\n",
    "\n",
    "iris = load_iris()\n",
    "X = iris.data\n",
    "y = iris.target\n",
    "knn = KNeighborsClassifier(n_neighbors=4)"
   ]
  },
  {
   "cell_type": "code",
   "execution_count": null,
   "metadata": {
    "slideshow": {
     "slide_type": "slide"
    }
   },
   "outputs": [],
   "source": [
    "from mlxtend.feature_selection import SequentialFeatureSelector as SFS\n",
    "\n",
    "sfs1 = SFS(knn, k_features=3, forward=True,  floating=False, verbose=2, scoring='accuracy', cv=0)\n",
    "# pomocou tejto triedy vieme robit SFS, SFFS, SBS aj SFBS a dokonca aj pridat cross-validaciu\n",
    "\n",
    "sfs1 = sfs1.fit(X, y)"
   ]
  },
  {
   "cell_type": "markdown",
   "metadata": {
    "slideshow": {
     "slide_type": "slide"
    }
   },
   "source": [
    "**Zoznamy najlepších podmnožín atribútov pre jednotlivé veľkosti podmnožín**"
   ]
  },
  {
   "cell_type": "code",
   "execution_count": null,
   "metadata": {
    "slideshow": {
     "slide_type": "-"
    }
   },
   "outputs": [],
   "source": [
    "sfs1.subsets_"
   ]
  },
  {
   "cell_type": "markdown",
   "metadata": {
    "slideshow": {
     "slide_type": "slide"
    }
   },
   "source": [
    "## 4.3 Feature selection - Embedded\n",
    "\n",
    "Skombinovať výhody filtrov a wrapprov\n",
    "- Model, ktorý sa trénuje si bude priamo vyberať atribúty, ktoré sú pre neho najlepšie\n",
    "\n",
    "Len málo modelov to podporuje\n",
    "* Lineárne modely penalizované L1 (Lasso) alebo L1+L2 (Elastic Net) regularizáciou: SVM, Lineárna regresia, Logistická regresia ...\n",
    "\n",
    "- Regularizácia zavádza do modelu penalizáciu za počet / veľkosť váh atribútov modelu. Nie je tam len chyba predikcie. Prirodzene sa tak vyberá jednoduchší model."
   ]
  },
  {
   "cell_type": "code",
   "execution_count": null,
   "metadata": {
    "slideshow": {
     "slide_type": "slide"
    }
   },
   "outputs": [],
   "source": [
    "from sklearn.ensemble import RandomForestClassifier\n",
    "from sklearn.datasets import load_iris\n",
    "from sklearn.feature_selection import SelectFromModel\n",
    "iris = load_iris()\n",
    "X, y = iris.data, iris.target\n",
    "X.shape"
   ]
  },
  {
   "cell_type": "markdown",
   "metadata": {
    "slideshow": {
     "slide_type": "slide"
    }
   },
   "source": [
    "## 4.4 RandomForest\n",
    "**Po natrénovaní náhodného lesu viem vybrať dôležitosť atribútov.**\n",
    "- Náhodný les je zjednodušene povedane: skupina stromov.\n",
    "- Viem sa pozrieť aké atribúty používajú stromy na rozhodovanie a ako vysoko sú v nich a podľa toho odvodiť ich dôležitosť."
   ]
  },
  {
   "cell_type": "code",
   "execution_count": null,
   "metadata": {
    "slideshow": {
     "slide_type": "fragment"
    }
   },
   "outputs": [],
   "source": [
    "clf = RandomForestClassifier()\n",
    "clf = clf.fit(X, y)\n",
    "clf.feature_importances_  "
   ]
  },
  {
   "cell_type": "code",
   "execution_count": null,
   "metadata": {
    "slideshow": {
     "slide_type": "slide"
    }
   },
   "outputs": [],
   "source": [
    "model = SelectFromModel(clf, prefit=True)\n",
    "X_new = model.transform(X)\n",
    "X_new.shape  "
   ]
  },
  {
   "cell_type": "markdown",
   "metadata": {
    "slideshow": {
     "slide_type": "slide"
    }
   },
   "source": [
    "# Poznámky\n",
    "\n",
    "* Rozhodovacie stromy sú pomerne jednoduchý ale zároveň veľmi silný nástroj.\n",
    "\n",
    "* Pri stromoch sa veľmi dobre interpretuje natrénovaný model pomocou pravidiel.\n",
    "\n",
    "* Pozor na pretrénovanie (nie len pri stromoch)\n",
    "\n",
    "* Výber atribútov je dobrý na redukciu problému prekliatia dimenzionality.\n",
    "  * Ak používate nejaký lineárny model alebo les, je možne že filtre budú zbytočné. \n",
    "  * Podobné pre wrappers. \n",
    "  * Môžete využiť to, že sa dajú použiť na embedded výber atribútov"
   ]
  }
 ],
 "metadata": {
  "kernelspec": {
   "display_name": "Python 3",
   "language": "python",
   "name": "python3"
  },
  "language_info": {
   "codemirror_mode": {
    "name": "ipython",
    "version": 3
   },
   "file_extension": ".py",
   "mimetype": "text/x-python",
   "name": "python",
   "nbconvert_exporter": "python",
   "pygments_lexer": "ipython3",
   "version": "3.8.4"
  }
 },
 "nbformat": 4,
 "nbformat_minor": 2
}
