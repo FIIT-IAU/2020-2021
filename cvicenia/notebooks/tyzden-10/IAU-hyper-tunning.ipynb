{
 "cells": [
  {
   "cell_type": "code",
   "execution_count": null,
   "metadata": {},
   "outputs": [],
   "source": [
    "# -*- coding: utf-8 -*-\n",
    "#\n",
    "# Licensed under the Apache License, Version 2.0 (the \"License\");\n",
    "# you may not use this file except in compliance with the License.\n",
    "# You may obtain a copy of the License at\n",
    "#\n",
    "#    http://www.apache.org/licenses/LICENSE-2.0\n",
    "#\n",
    "# Unless required by applicable law or agreed to in writing, software\n",
    "# distributed under the License is distributed on an \"AS IS\" BASIS,\n",
    "# WITHOUT WARRANTIES OR CONDITIONS OF ANY KIND, either express or\n",
    "# implied.\n",
    "# See the License for the specific language governing permissions and\n",
    "# limitations under the License.\n",
    "#"
   ]
  },
  {
   "cell_type": "markdown",
   "metadata": {
    "slideshow": {
     "slide_type": "slide"
    }
   },
   "source": [
    "# 1. Hyperparameter Tuning\n",
    "\n",
    "Nastavovacie parametrov modelu == hyperparameter tuning\n",
    "\n",
    "URL https://github.com/FIIT-IAU/IAU-2019-2020"
   ]
  },
  {
   "cell_type": "code",
   "execution_count": null,
   "metadata": {
    "slideshow": {
     "slide_type": "skip"
    }
   },
   "outputs": [],
   "source": [
    "%matplotlib inline\n",
    "import pandas as pd\n",
    "import numpy as np\n",
    "import matplotlib.pyplot as plt\n",
    "import seaborn\n",
    "from sklearn import datasets\n",
    "\n",
    "plt.rcParams['figure.figsize'] = 6, 4\n",
    "\n",
    "iris = datasets.load_iris()\n",
    "X = iris.data\n",
    "y = iris.target\n",
    "n_samples, n_features = X.shape\n",
    "n_samples, n_features"
   ]
  },
  {
   "cell_type": "markdown",
   "metadata": {
    "slideshow": {
     "slide_type": "slide"
    }
   },
   "source": [
    "#### Pridáme do dát 800 nových stĺpcov, ktoré sú ale úplne náhodné a nemali by nijak prispievať k úspešnosti. "
   ]
  },
  {
   "cell_type": "code",
   "execution_count": null,
   "metadata": {},
   "outputs": [],
   "source": [
    "# Trosku zasumime tie data, aby to vyzeralo krajsie\n",
    "random_state = np.random.RandomState(0)\n",
    "X = np.c_[X, random_state.randn(n_samples, 200 * n_features)]\n",
    "X.shape"
   ]
  },
  {
   "cell_type": "markdown",
   "metadata": {
    "slideshow": {
     "slide_type": "slide"
    }
   },
   "source": [
    "#### Skúsme teda natrénovať nejaký stromček"
   ]
  },
  {
   "cell_type": "code",
   "execution_count": null,
   "metadata": {},
   "outputs": [],
   "source": [
    "from sklearn.model_selection import cross_val_score\n",
    "from sklearn.tree import DecisionTreeClassifier\n",
    "\n",
    "cls = DecisionTreeClassifier()\n",
    "scores = cross_val_score(cls, X, y, cv=5, scoring = 'f1_macro')\n",
    "scores.mean()"
   ]
  },
  {
   "cell_type": "markdown",
   "metadata": {},
   "source": [
    "#### Dostali sme nejakú úspešnosť. Je to ale dobré číslo alebo nie? Potrebovali by sme si to overiť s niečím iným. Napríklad iným nastavením modelu."
   ]
  },
  {
   "cell_type": "code",
   "execution_count": null,
   "metadata": {
    "slideshow": {
     "slide_type": "slide"
    }
   },
   "outputs": [],
   "source": [
    "cls = DecisionTreeClassifier(max_depth=2)\n",
    "scores = cross_val_score(cls, X, y, cv=5, scoring = 'f1_macro')\n",
    "scores.mean()"
   ]
  },
  {
   "cell_type": "markdown",
   "metadata": {},
   "source": [
    "Zlepšili sme to, ale nedalo by sa to zlepšiť ešte viac? Môžeme skúsiť ďalšie nastavenia, ale nechce sa nám to skúšať manuálne. Nedalo by sa to robiť nejak systematicky a hlavne automaticky?\n",
    "\n",
    "## GridSearch"
   ]
  },
  {
   "cell_type": "code",
   "execution_count": null,
   "metadata": {
    "slideshow": {
     "slide_type": "-"
    }
   },
   "outputs": [],
   "source": [
    "from sklearn.model_selection import GridSearchCV\n",
    "clf = DecisionTreeClassifier\n",
    "\n",
    "cv_params = {'max_depth': [1,2,3,4] + list(range(5,10,2)), \n",
    "             'criterion': ['gini', 'entropy'], \n",
    "             'min_samples_leaf': [1, 3] }\n",
    "ind_params = {'random_state': 0}\n",
    "optimization = GridSearchCV(clf(**ind_params), \n",
    "                            cv_params,\n",
    "                            scoring = 'f1_macro', \n",
    "                            cv = 5, \n",
    "                            n_jobs = -1, \n",
    "                            verbose=True) "
   ]
  },
  {
   "cell_type": "markdown",
   "metadata": {
    "slideshow": {
     "slide_type": "slide"
    }
   },
   "source": [
    "#### GridSearch sa pokúsi zistiť úspešnosť na všetkých možných kombináciách parametrov, ktoré sme zadali do mriežky"
   ]
  },
  {
   "cell_type": "code",
   "execution_count": null,
   "metadata": {},
   "outputs": [],
   "source": [
    "from sklearn.model_selection import ParameterGrid\n",
    "print(len(ParameterGrid(cv_params)))\n",
    "list(ParameterGrid(cv_params))"
   ]
  },
  {
   "cell_type": "code",
   "execution_count": null,
   "metadata": {
    "slideshow": {
     "slide_type": "slide"
    }
   },
   "outputs": [],
   "source": [
    "%%time\n",
    "optimization.fit(X, y)"
   ]
  },
  {
   "cell_type": "code",
   "execution_count": null,
   "metadata": {
    "slideshow": {
     "slide_type": "slide"
    }
   },
   "outputs": [],
   "source": [
    "optimization.cv_results_ "
   ]
  },
  {
   "cell_type": "code",
   "execution_count": null,
   "metadata": {
    "slideshow": {
     "slide_type": "slide"
    }
   },
   "outputs": [],
   "source": [
    "list(filter(lambda x: 'best' in x, dir(optimization)))"
   ]
  },
  {
   "cell_type": "code",
   "execution_count": null,
   "metadata": {
    "slideshow": {
     "slide_type": "slide"
    }
   },
   "outputs": [],
   "source": [
    "optimization.best_estimator_"
   ]
  },
  {
   "cell_type": "code",
   "execution_count": null,
   "metadata": {
    "slideshow": {
     "slide_type": "-"
    }
   },
   "outputs": [],
   "source": [
    "optimization.best_score_"
   ]
  },
  {
   "cell_type": "markdown",
   "metadata": {
    "slideshow": {
     "slide_type": "slide"
    }
   },
   "source": [
    "## RandomSearch\n",
    "- Alternatíva ku GridSearchu,\n",
    "- Neprehľadávam systematicky celú mriežku, ale skúšam rôzne hodnoty parametrov náhodne.\n",
    "- Obyčajne nájde riešenie veľmi **blízke** tomu najlepšiemu z GridSearchu na oveľa menej pokusov. Nemusí nájsť to najlepšie (ak by sa to najlepšie vôbec nachádzalo v mriežke)."
   ]
  },
  {
   "cell_type": "code",
   "execution_count": null,
   "metadata": {
    "slideshow": {
     "slide_type": "slide"
    }
   },
   "outputs": [],
   "source": [
    "cv_params"
   ]
  },
  {
   "cell_type": "code",
   "execution_count": null,
   "metadata": {},
   "outputs": [],
   "source": [
    "from scipy import stats\n",
    "\n",
    "random_params = {\n",
    "    'max_depth': stats.randint(1,10),\n",
    "    'criterion': ['gini', 'entropy'],\n",
    "    'min_samples_leaf': stats.randint(1,5)\n",
    "}"
   ]
  },
  {
   "cell_type": "markdown",
   "metadata": {},
   "source": [
    "Čo keby som namiesto vymenovania hodnôt dal náhodnú premennú?"
   ]
  },
  {
   "cell_type": "code",
   "execution_count": null,
   "metadata": {
    "slideshow": {
     "slide_type": "slide"
    }
   },
   "outputs": [],
   "source": [
    "from sklearn.model_selection import RandomizedSearchCV\n",
    "\n",
    "random_optimization = RandomizedSearchCV(clf(**ind_params), \n",
    "                                         param_distributions = random_params, \n",
    "                                         n_iter = 10, \n",
    "                                         scoring = 'f1_macro', \n",
    "                                         cv = 5, \n",
    "                                         verbose=True, \n",
    "                                         random_state=42, \n",
    "                                         n_jobs = -1)"
   ]
  },
  {
   "cell_type": "markdown",
   "metadata": {},
   "source": [
    "Skúsime spustiť optimalizáciu s menším počtom pokusov"
   ]
  },
  {
   "cell_type": "code",
   "execution_count": null,
   "metadata": {
    "slideshow": {
     "slide_type": "slide"
    }
   },
   "outputs": [],
   "source": [
    "%%time\n",
    "random_optimization.fit(X, y)"
   ]
  },
  {
   "cell_type": "code",
   "execution_count": null,
   "metadata": {
    "slideshow": {
     "slide_type": "slide"
    }
   },
   "outputs": [],
   "source": [
    "random_optimization.best_estimator_"
   ]
  },
  {
   "cell_type": "code",
   "execution_count": null,
   "metadata": {},
   "outputs": [],
   "source": [
    "random_optimization.best_score_"
   ]
  },
  {
   "cell_type": "markdown",
   "metadata": {
    "slideshow": {
     "slide_type": "slide"
    }
   },
   "source": [
    "#### Viacero veľmi dobrých modelov má podobnú úspešnosť. Možno nám netreba nájsť ten úplne najlepší, ale rýchlo sa dostať k nejakému veľmi dobrému."
   ]
  },
  {
   "cell_type": "code",
   "execution_count": null,
   "metadata": {},
   "outputs": [],
   "source": [
    "sorted(optimization.cv_results_['mean_test_score'], reverse=True)"
   ]
  }
 ],
 "metadata": {
  "kernelspec": {
   "display_name": "Python 3",
   "language": "python",
   "name": "python3"
  },
  "language_info": {
   "codemirror_mode": {
    "name": "ipython",
    "version": 3
   },
   "file_extension": ".py",
   "mimetype": "text/x-python",
   "name": "python",
   "nbconvert_exporter": "python",
   "pygments_lexer": "ipython3",
   "version": "3.8.4"
  }
 },
 "nbformat": 4,
 "nbformat_minor": 2
}
