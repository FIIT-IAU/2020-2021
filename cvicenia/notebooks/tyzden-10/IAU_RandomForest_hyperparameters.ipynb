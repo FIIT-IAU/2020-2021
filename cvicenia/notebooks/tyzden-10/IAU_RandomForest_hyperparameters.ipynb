{
 "cells": [
  {
   "cell_type": "code",
   "execution_count": null,
   "metadata": {},
   "outputs": [],
   "source": [
    "# -*- coding: utf-8 -*-\n",
    "#\n",
    "# Licensed under the Apache License, Version 2.0 (the \"License\");\n",
    "# you may not use this file except in compliance with the License.\n",
    "# You may obtain a copy of the License at\n",
    "#\n",
    "#    http://www.apache.org/licenses/LICENSE-2.0\n",
    "#\n",
    "# Unless required by applicable law or agreed to in writing, software\n",
    "# distributed under the License is distributed on an \"AS IS\" BASIS,\n",
    "# WITHOUT WARRANTIES OR CONDITIONS OF ANY KIND, either express or\n",
    "# implied.\n",
    "# See the License for the specific language governing permissions and\n",
    "# limitations under the License.\n",
    "#"
   ]
  },
  {
   "cell_type": "markdown",
   "metadata": {},
   "source": [
    "# Hyperparameter tuning with Random Forest\n",
    "\n",
    "Based on https://towardsdatascience.com/optimizing-hyperparameters-in-random-forest-classification-ec7741f9d3f6"
   ]
  },
  {
   "cell_type": "code",
   "execution_count": null,
   "metadata": {},
   "outputs": [],
   "source": [
    "import pandas as pd\n",
    "import numpy as np\n",
    "import matplotlib.pyplot as plt\n",
    "import seaborn\n",
    "plt.rcParams['figure.figsize'] = 9, 6\n",
    "\n",
    "from sklearn.model_selection import train_test_split\n",
    "from sklearn.ensemble import RandomForestClassifier\n",
    "from sklearn.model_selection import GridSearchCV\n",
    "from sklearn.metrics import accuracy_score\n",
    "from sklearn.model_selection import validation_curve"
   ]
  },
  {
   "cell_type": "markdown",
   "metadata": {},
   "source": [
    "## Plotting function"
   ]
  },
  {
   "cell_type": "code",
   "execution_count": null,
   "metadata": {},
   "outputs": [],
   "source": [
    "def plot_valid_curve(param_range, train_scores_mean, train_scores_std, test_scores_mean, test_scores_std):\n",
    "    plt.title(\"Validation Curve\")\n",
    "    plt.xlabel(r\"$\\gamma$\")\n",
    "    plt.ylabel(\"Score\")\n",
    "    plt.ylim(0.991, 1.001)\n",
    "    lw = 2\n",
    "    plt.semilogx(param_range, \n",
    "                 train_scores_mean, \n",
    "                 label=\"Training score\",\n",
    "                 color=\"darkorange\", \n",
    "                 lw=lw\n",
    "                )\n",
    "    plt.fill_between(param_range, \n",
    "                     train_scores_mean - train_scores_std,\n",
    "                     train_scores_mean + train_scores_std, \n",
    "                     alpha=0.2,\n",
    "                     color=\"darkorange\", \n",
    "                     lw=lw\n",
    "                    )\n",
    "    plt.semilogx(param_range, \n",
    "                 test_scores_mean, \n",
    "                 label=\"Cross-validation score\",\n",
    "                 color=\"navy\", \n",
    "                 lw=lw\n",
    "                )\n",
    "    plt.fill_between(param_range, \n",
    "                     test_scores_mean - test_scores_std,\n",
    "                     test_scores_mean + test_scores_std, \n",
    "                     alpha=0.2,\n",
    "                     color=\"navy\", \n",
    "                     lw=lw\n",
    "                    )\n",
    "    plt.legend(loc=\"best\")    \n",
    "    return"
   ]
  },
  {
   "cell_type": "markdown",
   "metadata": {},
   "source": [
    "## Wine dataset with split ratio 65:35\n",
    "URL https://archive.ics.uci.edu/ml/datasets/wine+quality"
   ]
  },
  {
   "cell_type": "code",
   "execution_count": null,
   "metadata": {},
   "outputs": [],
   "source": [
    "red = pd.read_csv('winequality-red.csv', delimiter=';')\n",
    "red['color'] = 1\n",
    "\n",
    "white = pd.read_csv('winequality-white.csv', delimiter=';')\n",
    "white['color'] = 0\n",
    "\n",
    "data = pd.concat([red, white], ignore_index=True, sort=False)\n",
    "n_samples, n_features = data.shape\n",
    "n_samples, n_features"
   ]
  },
  {
   "cell_type": "markdown",
   "metadata": {},
   "source": [
    "#### add noisy columns (simulate real data)"
   ]
  },
  {
   "cell_type": "code",
   "execution_count": null,
   "metadata": {},
   "outputs": [],
   "source": [
    "# you can try a change to 100 to see computational effect\n",
    "n_cols = 20 * n_features\n",
    "random_state = np.random.RandomState(0)\n",
    "df_cols = pd.DataFrame(data=random_state.randn(n_samples, n_cols),\n",
    "                       columns=range(1, n_cols+1)\n",
    "                      )\n",
    "print(df_cols.shape)\n",
    "\n",
    "data = pd.concat([data, df_cols], axis=1)\n",
    "data.shape"
   ]
  },
  {
   "cell_type": "code",
   "execution_count": null,
   "metadata": {},
   "outputs": [],
   "source": []
  },
  {
   "cell_type": "code",
   "execution_count": null,
   "metadata": {},
   "outputs": [],
   "source": [
    "train, test = train_test_split(data, test_size=0.35, shuffle=True, stratify=None)\n",
    "print(len(train), len(test))\n",
    "\n",
    "x_train, y_train = train.loc[:, train.columns != 'color'], train['color']\n",
    "x_test, y_test = test.loc[:, test.columns != 'color'], test['color']"
   ]
  },
  {
   "cell_type": "markdown",
   "metadata": {},
   "source": [
    "## Random Forest classifier"
   ]
  },
  {
   "cell_type": "code",
   "execution_count": null,
   "metadata": {},
   "outputs": [],
   "source": [
    "# default n_estimators=100\n",
    "forest = RandomForestClassifier(random_state=1)\n",
    "model = forest.fit(x_train, y_train)\n",
    "y_pred = model.predict(x_test)\n",
    "\n",
    "print(accuracy_score(y_test, y_pred))"
   ]
  },
  {
   "cell_type": "markdown",
   "metadata": {},
   "source": [
    "## Hyperparameter *n_estimators* tuning\n",
    "**Note: long running time - a few minutes**"
   ]
  },
  {
   "cell_type": "code",
   "execution_count": null,
   "metadata": {},
   "outputs": [],
   "source": [
    "param_range = [100, 200, 300, 400, 500]\n",
    "\n",
    "train_scores, test_scores = validation_curve(RandomForestClassifier(),\n",
    "                                             X = x_train, \n",
    "                                             y = y_train, \n",
    "                                             param_name = 'n_estimators', \n",
    "                                             param_range = param_range, \n",
    "                                             scoring=\"accuracy\",\n",
    "                                             cv = 3\n",
    "                                            )\n",
    "train_scores_mean = np.mean(train_scores, axis=1)\n",
    "train_scores_std = np.std(train_scores, axis=1)\n",
    "test_scores_mean = np.mean(test_scores, axis=1)\n",
    "test_scores_std = np.std(test_scores, axis=1)\n",
    "\n",
    "print(train_scores)\n",
    "print(test_scores)"
   ]
  },
  {
   "cell_type": "markdown",
   "metadata": {},
   "source": [
    "## Plotting"
   ]
  },
  {
   "cell_type": "code",
   "execution_count": null,
   "metadata": {},
   "outputs": [],
   "source": [
    "plot_valid_curve(param_range, train_scores_mean, train_scores_std, test_scores_mean, test_scores_std)"
   ]
  },
  {
   "cell_type": "markdown",
   "metadata": {},
   "source": [
    "## Random Forest with hyperparameter setting"
   ]
  },
  {
   "cell_type": "code",
   "execution_count": null,
   "metadata": {},
   "outputs": [],
   "source": [
    "forest = RandomForestClassifier(random_state = 1,\n",
    "                                n_estimators = 200,\n",
    "                                max_depth = None, \n",
    "                                min_samples_split = 2,  \n",
    "                                min_samples_leaf = 1\n",
    "                               ) \n",
    "model = forest.fit(x_train, y_train) \n",
    "y_pred = model.predict(x_test)\n",
    "\n",
    "print(accuracy_score(y_test, y_pred))"
   ]
  },
  {
   "cell_type": "markdown",
   "metadata": {},
   "source": [
    "## Grid Search\n",
    "**Note: long running time cca 30m**"
   ]
  },
  {
   "cell_type": "code",
   "execution_count": null,
   "metadata": {},
   "outputs": [],
   "source": [
    "n_estimators = [100, 200, 300, 400, 500]\n",
    "max_depth = [5, 10, 20, 30, 40, 50]\n",
    "min_samples_split = [2, 5, 10, 15, 20]\n",
    "min_samples_leaf = [1, 2, 5, 10] \n",
    "\n",
    "hyper = dict(n_estimators = n_estimators, \n",
    "             max_depth = max_depth,  \n",
    "             min_samples_split = min_samples_split, \n",
    "             min_samples_leaf = min_samples_leaf\n",
    "            )\n",
    "gs = GridSearchCV(forest, hyper, cv=3, verbose=1, n_jobs=-1)\n",
    "\n",
    "best = gs.fit(x_train, y_train)\n",
    "print(best)"
   ]
  },
  {
   "cell_type": "markdown",
   "metadata": {},
   "source": [
    "## The best model"
   ]
  },
  {
   "cell_type": "code",
   "execution_count": null,
   "metadata": {},
   "outputs": [],
   "source": [
    "forest = RandomForestClassifier(n_estimators=200, random_state=1)\n",
    "model = forest.fit(x_train, y_train)\n",
    "y_pred = model.predict(x_test)\n",
    "\n",
    "print(accuracy_score(y_test, y_pred))"
   ]
  },
  {
   "cell_type": "markdown",
   "metadata": {},
   "source": [
    "# DÚ (len) na rozmýšľanie:\n",
    "https://scikit-learn.org/stable/modules/generated/sklearn.ensemble.RandomForestClassifier.html\n",
    "- different split ratio 65:35, 70:30, 75:26, 80:20\n",
    "- different hyperpamater setting\n",
    "- different criterion{“gini”, “entropy”}\n",
    "- different classifiers\n",
    "- different metrics\n",
    "- different datasets\n",
    "\n",
    "**The quest**\n",
    "- What is the best model?\n",
    "- Is the score good enough?\n",
    "- Do we need more tuning for this concrete case?\n",
    "\n",
    "**Auxiliary**\n",
    "- Nice visualizations of data and/or results"
   ]
  }
 ],
 "metadata": {
  "kernelspec": {
   "display_name": "Python 3",
   "language": "python",
   "name": "python3"
  },
  "language_info": {
   "codemirror_mode": {
    "name": "ipython",
    "version": 3
   },
   "file_extension": ".py",
   "mimetype": "text/x-python",
   "name": "python",
   "nbconvert_exporter": "python",
   "pygments_lexer": "ipython3",
   "version": "3.8.4"
  }
 },
 "nbformat": 4,
 "nbformat_minor": 4
}
