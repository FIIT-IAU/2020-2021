{
 "cells": [
  {
   "cell_type": "code",
   "execution_count": null,
   "metadata": {},
   "outputs": [],
   "source": [
    "# -*- coding: utf-8 -*-\n",
    "#\n",
    "# Licensed under the Apache License, Version 2.0 (the \"License\");\n",
    "# you may not use this file except in compliance with the License.\n",
    "# You may obtain a copy of the License at\n",
    "#\n",
    "#    http://www.apache.org/licenses/LICENSE-2.0\n",
    "#\n",
    "# Unless required by applicable law or agreed to in writing, software\n",
    "# distributed under the License is distributed on an \"AS IS\" BASIS,\n",
    "# WITHOUT WARRANTIES OR CONDITIONS OF ANY KIND, either express or\n",
    "# implied.\n",
    "# See the License for the specific language governing permissions and\n",
    "# limitations under the License.\n",
    "#"
   ]
  },
  {
   "cell_type": "markdown",
   "metadata": {},
   "source": [
    "# Data integration\n",
    "\n",
    "### References\n",
    "- https://github.com/jorisvandenbossche/2015-PyDataParis\n",
    "- https://github.com/FIIT-IAU/IAU-2019-2020\n",
    "\n",
    "<!--\n",
    "navody na pouzivanie pandas, matplotlib a numpy na spracovanie dat. Niesu to informacie o tom ako robit explorativnu analyzu, ale ako pouzivat kniznice\n",
    "\n",
    "Z tohoto povyberam zaujimave casti, spojim ich s nejakou kapitolou v knihe o tom ako riesit spracovanie, cistanie dat a transformovanie dat\n",
    "http://nbviewer.jupyter.org/github/ResearchComputing/Meetup-Fall-2013/blob/master/python/lecture_10_pandas_introduction.ipynb\n",
    "http://nbviewer.jupyter.org/github/ResearchComputing/Meetup-Fall-2013/blob/master/python/lecture_11_pandas_adding_data.ipynb\n",
    "http://nbviewer.jupyter.org/github/ResearchComputing/Meetup-Fall-2013/blob/master/python/lecture_12_pandas_groupby.ipynb\n",
    "http://nbviewer.jupyter.org/github/ResearchComputing/Meetup-Fall-2013/blob/master/python/lecture_13_pandas_movies.ipynb \n",
    "http://nbviewer.jupyter.org/github/ResearchComputing/Meetup-Fall-2013/blob/master/python/lecture_14_pandas_reshape.ipynb\n",
    "http://nbviewer.jupyter.org/github/ResearchComputing/Meetup-Fall-2013/blob/master/python/lecture_15_pandas_transforming.ipynb\n",
    "http://nbviewer.jupyter.org/github/ResearchComputing/Meetup-Fall-2013/blob/master/python/lecture_21_pandas_processing.ipynb\n",
    "http://nbviewer.jupyter.org/github/ResearchComputing/Meetup-Fall-2013/blob/master/python/lecture_22_pandas_cleaning.ipynb\n",
    "\n",
    "http://nbviewer.jupyter.org/github/ResearchComputing/Meetup-Fall-2013/blob/master/python/lecture_23_titanic_example.ipynb\n",
    "-->\n",
    "\n",
    "### Working with a Pandas dataframe\n",
    "\n",
    "<img src=\"https://github.com/FIIT-IAU/2015-PyDataParis/raw/b900fdb9f3c12e9206bb417022dd004abf023c0f/img/dataframe.png\" width=\"50%\" height=\"50%\" />\n",
    "\n",
    "\n",
    "# Case study: Air quality in Europe\n",
    "**[European air quality information reported by EEA member countries](https://www.eea.europa.eu/data-and-maps/data/aqereporting-8#tab-european-data).**\n",
    "\n",
    "AirBase (The European Air quality dataBase): hourly measurements of all air quality monitoring stations from Europe."
   ]
  },
  {
   "cell_type": "code",
   "execution_count": null,
   "metadata": {},
   "outputs": [],
   "source": [
    "import matplotlib.pyplot as plt\n",
    "import numpy as np\n",
    "import os\n",
    "import pandas as pd\n",
    "import seaborn as sns"
   ]
  },
  {
   "cell_type": "code",
   "execution_count": null,
   "metadata": {},
   "outputs": [],
   "source": [
    "filename = \"data/input/BETR8010000800100hour.1-1-1990.31-12-2012\"\n",
    "df = pd.read_csv(filename)\n",
    "df.head()"
   ]
  },
  {
   "cell_type": "markdown",
   "metadata": {},
   "source": [
    "Vidíme, že pri načítaní nastalo viacero problémov. Skúsme sa teda pozrieť na dáta v nejakom editore predtým, ako ich načítame:"
   ]
  },
  {
   "cell_type": "code",
   "execution_count": null,
   "metadata": {},
   "outputs": [],
   "source": [
    "%%bash\n",
    "head data/input/BETR8010000800100hour.1-1-1990.31-12-2012"
   ]
  },
  {
   "cell_type": "markdown",
   "metadata": {},
   "source": [
    "z tohoto zatiaľ vieme asi len to, že pôjde o **csv formát, separátor hodnôt je \\t**, sú tam samé numerické dáta a nemáme pomenované atribúty."
   ]
  },
  {
   "cell_type": "code",
   "execution_count": null,
   "metadata": {},
   "outputs": [],
   "source": [
    "%%bash\n",
    "ls -lh data/input/BETR8010000800100hour.1-1-1990.31-12-2012"
   ]
  },
  {
   "cell_type": "code",
   "execution_count": null,
   "metadata": {},
   "outputs": [],
   "source": [
    "%%bash \n",
    "wc -l data/input/BETR8010000800100hour.1-1-1990.31-12-2012"
   ]
  },
  {
   "cell_type": "markdown",
   "metadata": {},
   "source": [
    "Takže tých dat nie je zas tak veľa a nemusím sa báť to všetko načítať do pamäte"
   ]
  },
  {
   "cell_type": "code",
   "execution_count": null,
   "metadata": {},
   "outputs": [],
   "source": [
    "data = pd.read_csv(filename, \n",
    "                   sep='\\t', \n",
    "                   header=None)\n",
    "data.head()"
   ]
  },
  {
   "cell_type": "markdown",
   "metadata": {},
   "source": [
    "Máme 49 stĺpcov. Dátum a 48 ďalších numerických atribútov. Každý druhý sa zdá byt binárny. Asi nejaký príznak.\n",
    "\n",
    "Dáta sú tvorené meraniami nejakej veličiny asi v jednotlivých hodinách dňa. \n",
    "\n",
    "Čo deň, to riadok. Každá hodina má zvlášť stĺpec + je tu stĺpec pre nejaký príznak, ktorý nás teraz nezaujíma.\n",
    "\n",
    "Sú tam nejaké divné hodnoty, ktoré by tam asi nemali byť: -999 a -9999.\n",
    "\n",
    "Dátum bude asi index"
   ]
  },
  {
   "cell_type": "code",
   "execution_count": null,
   "metadata": {},
   "outputs": [],
   "source": [
    "data = pd.read_csv(filename, \n",
    "                   sep='\\t', \n",
    "                   header=None,\n",
    "                   na_values=[-999, -9999], \n",
    "                   index_col=0\n",
    "                  )\n",
    "data.head()"
   ]
  },
  {
   "cell_type": "code",
   "execution_count": null,
   "metadata": {},
   "outputs": [],
   "source": [
    "# skusime povyhadzovat tie flagy, ktore nas nezaujimaju. Zhodou okolnosti je to kazdy druhy stlpec\n",
    "data.columns[1::2]"
   ]
  },
  {
   "cell_type": "code",
   "execution_count": null,
   "metadata": {},
   "outputs": [],
   "source": [
    "data = data.drop(data.columns[1::2], \n",
    "                 axis=1)\n",
    "data.head()"
   ]
  },
  {
   "cell_type": "code",
   "execution_count": null,
   "metadata": {},
   "outputs": [],
   "source": [
    "# Skusme si nejak normalne pomenovat vzniknute stlpce\n",
    "[\"{:02d}\".format(i) for i in range(len(data.columns))]"
   ]
  },
  {
   "cell_type": "code",
   "execution_count": null,
   "metadata": {},
   "outputs": [],
   "source": [
    "# mam nejako rozsypane nazvy stlpcov\n",
    "data.columns = [\"{:02d}\".format(i) for i in range(len(data.columns))]\n",
    "data.head()"
   ]
  },
  {
   "cell_type": "markdown",
   "metadata": {},
   "source": [
    "**Skúsme presunúť každé meranie na samostatný riadok**"
   ]
  },
  {
   "cell_type": "code",
   "execution_count": null,
   "metadata": {},
   "outputs": [],
   "source": [
    "data = data.stack()\n",
    "data.head()"
   ]
  },
  {
   "cell_type": "code",
   "execution_count": null,
   "metadata": {},
   "outputs": [],
   "source": [
    "# vysledok preusporiadania je viacdimenzionalny Series objekt, a nie DataFrame.\n",
    "type(data)  "
   ]
  },
  {
   "cell_type": "code",
   "execution_count": null,
   "metadata": {},
   "outputs": [],
   "source": [
    "# mohli by sme nejak normalne pomenovat stlpec, napr. nazvom meracej stanice, ktora je v nazve suboru\n",
    "_, fname = os.path.split(filename)\n",
    "station = fname[:7]\n",
    "print(filename)\n",
    "print(station)"
   ]
  },
  {
   "cell_type": "code",
   "execution_count": null,
   "metadata": {},
   "outputs": [],
   "source": [
    "#reset index mi z toho spravi data frame\n",
    "data = data.reset_index(name=station) \n",
    "# data = data.reset_index() \n",
    "\n",
    "print(type(data))\n",
    "data.head()"
   ]
  },
  {
   "cell_type": "code",
   "execution_count": null,
   "metadata": {},
   "outputs": [],
   "source": [
    "data = data.rename(columns = {0:'date', 'level_1':'hour'})\n",
    "data.head()"
   ]
  },
  {
   "cell_type": "code",
   "execution_count": null,
   "metadata": {},
   "outputs": [],
   "source": [
    "# teraz tomu vyrobime novy index z datumu a hodiny\n",
    "data.index = pd.to_datetime(data['date'] + ' ' + data['hour'])\n",
    "data.head()"
   ]
  },
  {
   "cell_type": "code",
   "execution_count": null,
   "metadata": {},
   "outputs": [],
   "source": [
    "# zmazeme nepotrebne stlpce\n",
    "data = data.drop(['date', 'hour'], axis=1)\n",
    "data.head()"
   ]
  },
  {
   "cell_type": "markdown",
   "metadata": {},
   "source": [
    "# Above-code for one station is inserted into the python file  `airbase.py`\n",
    "**We are going to work with more stations.**"
   ]
  },
  {
   "cell_type": "code",
   "execution_count": null,
   "metadata": {},
   "outputs": [],
   "source": [
    "import airbase\n",
    "no2 = airbase.load_data()"
   ]
  },
  {
   "cell_type": "code",
   "execution_count": null,
   "metadata": {},
   "outputs": [],
   "source": [
    "no2.head(3)"
   ]
  },
  {
   "cell_type": "code",
   "execution_count": null,
   "metadata": {},
   "outputs": [],
   "source": [
    "no2.tail()"
   ]
  },
  {
   "cell_type": "code",
   "execution_count": null,
   "metadata": {},
   "outputs": [],
   "source": [
    "no2.info()"
   ]
  },
  {
   "cell_type": "code",
   "execution_count": null,
   "metadata": {},
   "outputs": [],
   "source": [
    "no2.describe()"
   ]
  },
  {
   "cell_type": "code",
   "execution_count": null,
   "metadata": {},
   "outputs": [],
   "source": [
    "no2.plot(kind='box')"
   ]
  },
  {
   "cell_type": "code",
   "execution_count": null,
   "metadata": {},
   "outputs": [],
   "source": [
    "# boxplot vie ukazat aj outlierov\n",
    "sns.boxplot(no2, sym='k.')"
   ]
  },
  {
   "cell_type": "code",
   "execution_count": null,
   "metadata": {},
   "outputs": [],
   "source": [
    "no2['BETN029'].plot(kind='hist', bins=50)"
   ]
  },
  {
   "cell_type": "code",
   "execution_count": null,
   "metadata": {},
   "outputs": [],
   "source": [
    "sns.violinplot(no2)"
   ]
  },
  {
   "cell_type": "code",
   "execution_count": null,
   "metadata": {},
   "outputs": [],
   "source": [
    "# first plotting\n",
    "no2.plot(figsize=(12,6))"
   ]
  },
  {
   "cell_type": "code",
   "execution_count": null,
   "metadata": {},
   "outputs": [],
   "source": [
    "# mozem si povedat, ze chcem len nejaku mensiu cast\n",
    "no2[-500:].plot(figsize=(12,6))"
   ]
  },
  {
   "cell_type": "markdown",
   "metadata": {},
   "source": [
    "**Alebo použijem zaujímavejšie operácie s timeseries**"
   ]
  },
  {
   "cell_type": "code",
   "execution_count": null,
   "metadata": {},
   "outputs": [],
   "source": [
    "# kedze index su casy, tak viem robit s nimi zaujimave veci\n",
    "no2.index "
   ]
  },
  {
   "cell_type": "code",
   "execution_count": null,
   "metadata": {},
   "outputs": [],
   "source": [
    "# napriklad definovat rozsahy pomocou retazca s datumom\n",
    "no2[\"2010-01-01 09:00\": \"2010-01-01 12:00\"] "
   ]
  },
  {
   "cell_type": "code",
   "execution_count": null,
   "metadata": {},
   "outputs": [],
   "source": [
    "# alebo takto vybrat vsetky data z jedneho konkretneho roku\n",
    "no2['2012'] \n",
    "# no2['2012'].head()\n",
    "\n",
    "# alebo len data z marca\n",
    "# no2['2012/03'] "
   ]
  },
  {
   "cell_type": "code",
   "execution_count": null,
   "metadata": {},
   "outputs": [],
   "source": [
    "# komponenty datumu su pristupne z indexu\n",
    "# no2.index.hour\n",
    "no2.index.year"
   ]
  },
  {
   "cell_type": "code",
   "execution_count": null,
   "metadata": {},
   "outputs": [],
   "source": [
    "# a co je zaujimavejsie, viem zmenit vzorkovaciu frekvenciu\n",
    "no2.resample('D').mean().head()"
   ]
  },
  {
   "cell_type": "code",
   "execution_count": null,
   "metadata": {},
   "outputs": [],
   "source": [
    "# je tu asi nejaka sezonnost?\n",
    "no2.resample('M').mean().plot()"
   ]
  },
  {
   "cell_type": "code",
   "execution_count": null,
   "metadata": {},
   "outputs": [],
   "source": [
    "# dlhodoby trend?\n",
    "no2.resample('A').mean().plot()"
   ]
  },
  {
   "cell_type": "code",
   "execution_count": null,
   "metadata": {},
   "outputs": [],
   "source": [
    "# tyzdenna sezonnost?\n",
    "no2['2012-3':'2012-4'].resample('D').mean().plot()"
   ]
  },
  {
   "cell_type": "code",
   "execution_count": null,
   "metadata": {},
   "outputs": [],
   "source": [
    "# mozem pouzit aj viacero agregacnych funkcii a porovnat si ich\n",
    "no2.loc['2009':, 'FR04037'].resample('M').agg(['mean', 'median']).plot()\n",
    "# no2.loc['2009':, 'FR04037'].resample('M').agg(['mean', 'std']).plot()"
   ]
  },
  {
   "cell_type": "markdown",
   "metadata": {},
   "source": [
    "## Pozor resample != groupby"
   ]
  },
  {
   "cell_type": "code",
   "execution_count": null,
   "metadata": {},
   "outputs": [],
   "source": [
    "# Toto je časový priebeh s mesačnou granularitou. Spriemerované sú hodnoty v priebehu mesiaca\n",
    "no2.resample('M').mean().plot()"
   ]
  },
  {
   "cell_type": "code",
   "execution_count": null,
   "metadata": {},
   "outputs": [],
   "source": [
    "# Toto sú spriemerované všetky hodnoty pre mesiac s daným číslom. Aj naprieč rokmi. \n",
    "# Získal som teda priemerný priebeh hodnoty počas roka s mesačnou granularitou.\n",
    "no2.groupby(no2.index.month).mean().plot()"
   ]
  },
  {
   "cell_type": "markdown",
   "metadata": {},
   "source": [
    "# Sumár, čo si zobrať z tejto EDA\n",
    "\n",
    "* Uistite sa, že dáta sú kódované správne (najčastejšie sa treba pozrieť manuálne do dát)\n",
    "* Uistite sa, že dáta spadajú do očakávaného rozsahu a všetky majú očakávaný tvar (napríklad formát času)\n",
    "* Nikdy nemeňte dáta manuálne. Vždy používajte kód, ktorý si odložíte a použijete vždy, keď budete opakovať experiment. Chceme, aby bola analýza reprodukovateľná\n",
    "* Spravte si grafy všetkého, čo sa len dá, aby ste si vizuálne potvrdili, že niečo je tak, ako by malo byt"
   ]
  },
  {
   "cell_type": "code",
   "execution_count": null,
   "metadata": {},
   "outputs": [],
   "source": []
  }
 ],
 "metadata": {
  "anaconda-cloud": {},
  "kernelspec": {
   "display_name": "Python 3",
   "language": "python",
   "name": "python3"
  },
  "language_info": {
   "codemirror_mode": {
    "name": "ipython",
    "version": 3
   },
   "file_extension": ".py",
   "mimetype": "text/x-python",
   "name": "python",
   "nbconvert_exporter": "python",
   "pygments_lexer": "ipython3",
   "version": "3.8.4"
  }
 },
 "nbformat": 4,
 "nbformat_minor": 2
}
